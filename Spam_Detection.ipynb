{
 "cells": [
  {
   "cell_type": "markdown",
   "metadata": {
    "id": "_bphECiUa9zw"
   },
   "source": [
    "# Spam Detection\n",
    "\n",
    "This code is based on an assignment developed by Prof. Lisa Zhang."
   ]
  },
  {
   "cell_type": "markdown",
   "metadata": {
    "id": "fFMdtipUPNdu"
   },
   "source": [
    "## LSTM from Scratch\n",
    "\n",
    "In this part I will construct a LSTM model for identifying spam from non spam messages."
   ]
  },
  {
   "cell_type": "code",
   "execution_count": null,
   "metadata": {
    "id": "HgfNOUaPa9z8"
   },
   "outputs": [],
   "source": [
    "import torch\n",
    "import torch.nn as nn\n",
    "import torch.nn.functional as F\n",
    "import torch.optim as optim\n",
    "import numpy as np"
   ]
  },
  {
   "cell_type": "markdown",
   "metadata": {
    "id": "M0jLI9LBa90C"
   },
   "source": [
    "### Data Cleaning\n",
    "\n",
    "I will be using the \"SMS Spam Collection Data Set\" available at http://archive.ics.uci.edu/ml/datasets/SMS+Spam+Collection"
   ]
  },
  {
   "cell_type": "code",
   "execution_count": null,
   "metadata": {
    "colab": {
     "base_uri": "https://localhost:8080/"
    },
    "id": "I_IfXHeTa90F",
    "outputId": "56980f54-18d4-422d-a1d6-fdccce54daab"
   },
   "outputs": [
    {
     "name": "stdout",
     "output_type": "stream",
     "text": [
      "ham\tGo until jurong point, crazy.. Available only in bugis n great world la e buffet... Cine there got amore wat...\n",
      "\n",
      "spam\tFree entry in 2 a wkly comp to win FA Cup final tkts 21st May 2005. Text FA to 87121 to receive entry question(std txt rate)T&C's apply 08452810075over18's\n",
      "\n"
     ]
    }
   ],
   "source": [
    "for line in open('SMSSpamCollection'):\n",
    "  if \"ham\" in line:\n",
    "    s1=line\n",
    "    print(line)\n",
    "    break\n",
    "\n",
    "for line in open('SMSSpamCollection'):\n",
    "  if \"spam\" in line:\n",
    "    print(line)\n",
    "    break"
   ]
  },
  {
   "cell_type": "markdown",
   "metadata": {
    "id": "qPRc43nZHCYz"
   },
   "source": [
    "The label value for a spam message is \"spam\" and the label value for a non-spam message is \"ham\"."
   ]
  },
  {
   "cell_type": "markdown",
   "metadata": {
    "id": "_tahFLYqLIuL"
   },
   "source": [
    "**Number of spam messages:**"
   ]
  },
  {
   "cell_type": "code",
   "execution_count": null,
   "metadata": {
    "colab": {
     "base_uri": "https://localhost:8080/"
    },
    "id": "WVx5aLVeMUwE",
    "outputId": "60680fa2-c9ca-42f3-eb45-921fc169cd1f"
   },
   "outputs": [
    {
     "name": "stdout",
     "output_type": "stream",
     "text": [
      "There are 747 spam messages\n"
     ]
    }
   ],
   "source": [
    "spam_messages_num=0\n",
    "for line in open('SMSSpamCollection'):\n",
    "  if (line.split(None, 1)[0]==\"spam\"):\n",
    "    spam_messages_num=spam_messages_num+1\n",
    "\n",
    "print(\"There are\", spam_messages_num, \"spam messages\")"
   ]
  },
  {
   "cell_type": "markdown",
   "metadata": {
    "id": "W2TpsM-1LML9"
   },
   "source": [
    "**Number of non-spam messages:**"
   ]
  },
  {
   "cell_type": "code",
   "execution_count": null,
   "metadata": {
    "colab": {
     "base_uri": "https://localhost:8080/"
    },
    "id": "m4SX7H5iMxeD",
    "outputId": "09ce3374-318d-4575-bf11-b60d83a97a8b"
   },
   "outputs": [
    {
     "name": "stdout",
     "output_type": "stream",
     "text": [
      "There are 4827 non-spam messages\n"
     ]
    }
   ],
   "source": [
    "non_spam_messages_num=0\n",
    "for line in open('SMSSpamCollection'):\n",
    "  if (line.split(None, 1)[0]==\"ham\"):\n",
    "    non_spam_messages_num=non_spam_messages_num+1\n",
    "\n",
    "print(\"There are\", non_spam_messages_num, \"non-spam messages\")"
   ]
  },
  {
   "cell_type": "markdown",
   "metadata": {
    "id": "ie_D0bv9a90k"
   },
   "source": [
    "I will be loading the data set using `torchtext.data.TabularDataset`. The\n",
    "constructor will read directly from the `SMSSpamCollection` file. \n",
    "\n",
    "For the data file to be read successfuly, we need to specify the **fields** (columns) in the file. \n",
    "In our case, the dataset has two fields: \n",
    "\n",
    "- a text field containing the sms messages,\n",
    "- a label field which will be converted into a binary label.\n",
    "\n",
    "I will split the dataset into 60% training, 20% validation, and 20% testing."
   ]
  },
  {
   "cell_type": "code",
   "execution_count": null,
   "metadata": {
    "id": "P_Y6Puz9a90l"
   },
   "outputs": [],
   "source": [
    "import torchtext\n",
    "import random\n",
    "\n",
    "text_field = torchtext.legacy.data.Field(sequential=True,      # text sequence\n",
    "                                  tokenize=lambda x: x, # because are building a character-RNN\n",
    "                                  include_lengths=True, # to track the length of sequences, for batching\n",
    "                                  batch_first=True,\n",
    "                                  use_vocab=True)       # to turn each character into an integer index\n",
    "label_field = torchtext.legacy.data.Field(sequential=False,    # not a sequence\n",
    "                                   use_vocab=False,     # don't need to track vocabulary\n",
    "                                   is_target=True,      \n",
    "                                   batch_first=True,\n",
    "                                   preprocessing=lambda x: int(x == 'spam')) # convert text to 0 and 1\n",
    "\n",
    "fields = [('label', label_field), ('sms', text_field)]\n",
    "dataset = torchtext.legacy.data.TabularDataset(\"SMSSpamCollection\", # name of the file\n",
    "                                        \"tsv\",               # fields are separated by a tab\n",
    "                                        fields)\n",
    "\n",
    "#dataset[0].sms\n",
    "#dataset[0].label\n",
    "train, valid, test = dataset.split(split_ratio=[0.6,0.2,0.2],random_state=random.getstate())"
   ]
  },
  {
   "cell_type": "markdown",
   "metadata": {
    "id": "v6nP0Ks_a90o"
   },
   "source": [
    "There are many more non-spam messages than spam messages.\n",
    "This **imbalance** in our training data will be problematic for training.\n",
    "We can fix this disparity by duplicating spam messages in the training set,\n",
    "so that the training set is roughly **balanced**."
   ]
  },
  {
   "cell_type": "code",
   "execution_count": null,
   "metadata": {
    "id": "FWvx9_rka90p"
   },
   "outputs": [],
   "source": [
    "# save the original training examples\n",
    "old_train_examples = train.examples\n",
    "# get all the spam messages in `train`\n",
    "train_spam = []\n",
    "for item in train.examples:\n",
    "    if item.label == 1:\n",
    "        train_spam.append(item)\n",
    "# duplicate each spam message 6 more times\n",
    "train.examples = old_train_examples + train_spam * 6"
   ]
  },
  {
   "cell_type": "markdown",
   "metadata": {
    "id": "j7eUmBEva90r"
   },
   "source": [
    "### Building Vocabulary"
   ]
  },
  {
   "cell_type": "code",
   "execution_count": null,
   "metadata": {
    "id": "8CQM8flKa90s"
   },
   "outputs": [],
   "source": [
    "text_field.build_vocab(train)"
   ]
  },
  {
   "cell_type": "code",
   "execution_count": null,
   "metadata": {
    "id": "vTrIRYASIoOe"
   },
   "outputs": [],
   "source": [
    "text_field.vocab.stoi"
   ]
  },
  {
   "cell_type": "markdown",
   "metadata": {
    "id": "tCtLZ9X2JiTy"
   },
   "source": [
    "text_field.vocab.stoi represents a collection of the characters with a corresponding numerical value that identifies where each character - that torchtext has found in the sentences - is located in the new vocabulary (our training data).  "
   ]
  },
  {
   "cell_type": "code",
   "execution_count": null,
   "metadata": {
    "id": "oOX0IKOgKGRW"
   },
   "outputs": [],
   "source": [
    "text_field.vocab.itos"
   ]
  },
  {
   "cell_type": "markdown",
   "metadata": {
    "id": "UkbsiDy9Klwv"
   },
   "source": [
    "text_field.vocab.itos represents a collection of the characters indexed in the order of the numerical values (found in text_field.vocab.stoi) in the new vocabulary that torchtext has found in the sentences (our training data)."
   ]
  },
  {
   "cell_type": "markdown",
   "metadata": {
    "id": "_2Emd2qPLxer"
   },
   "source": [
    "The token `<unk>` represents unknown or unseen characters in our vocabulary (out of vocabulary), while `<pad>` means adding padding token before or after a character to allow sentences' lengths to match."
   ]
  },
  {
   "cell_type": "markdown",
   "metadata": {
    "id": "Ff5CNk7Qa90y"
   },
   "source": [
    "Since text sequences are of variable length, `torchtext` provides a `BucketIterator` data loader,\n",
    "which batches similar length sequences together. The iterator also provides functionalities to\n",
    "pad sequences automatically."
   ]
  },
  {
   "cell_type": "code",
   "execution_count": null,
   "metadata": {
    "id": "V8N8qLWOa90y"
   },
   "outputs": [],
   "source": [
    "train_iter = torchtext.legacy.data.BucketIterator(train,\n",
    "                                           batch_size=32,\n",
    "                                           sort_key=lambda x: len(x.sms), # to minimize padding\n",
    "                                           sort_within_batch=True,        # sort within each batch\n",
    "                                           repeat=False)                  # repeat the iterator for many epochs"
   ]
  },
  {
   "cell_type": "code",
   "execution_count": null,
   "metadata": {
    "colab": {
     "base_uri": "https://localhost:8080/"
    },
    "id": "Qwz-rOaha902",
    "outputId": "258c90ad-6103-4bb6-da69-4eb3cf6597c6"
   },
   "outputs": [
    {
     "name": "stdout",
     "output_type": "stream",
     "text": [
      "The maximum length of input sequence in batch 1 is: 156\n",
      "The number of times <pad> token was used in batch 1 is: 0\n",
      "\n",
      "The maximum length of input sequence in batch 2 is: 148\n",
      "The number of times <pad> token was used in batch 2 is: 21\n",
      "\n",
      "The maximum length of input sequence in batch 3 is: 52\n",
      "The number of times <pad> token was used in batch 3 is: 15\n",
      "\n",
      "The maximum length of input sequence in batch 4 is: 152\n",
      "The number of times <pad> token was used in batch 4 is: 29\n",
      "\n",
      "The maximum length of input sequence in batch 5 is: 42\n",
      "The number of times <pad> token was used in batch 5 is: 34\n",
      "\n",
      "The maximum length of input sequence in batch 6 is: 23\n",
      "The number of times <pad> token was used in batch 6 is: 26\n",
      "\n",
      "The maximum length of input sequence in batch 7 is: 36\n",
      "The number of times <pad> token was used in batch 7 is: 22\n",
      "\n",
      "The maximum length of input sequence in batch 8 is: 68\n",
      "The number of times <pad> token was used in batch 8 is: 54\n",
      "\n",
      "The maximum length of input sequence in batch 9 is: 136\n",
      "The number of times <pad> token was used in batch 9 is: 6\n",
      "\n",
      "The maximum length of input sequence in batch 10 is: 137\n",
      "The number of times <pad> token was used in batch 10 is: 15\n",
      "\n"
     ]
    }
   ],
   "source": [
    "i=0\n",
    "for batch in train_iter:\n",
    "  count=0\n",
    "  if i<=9:\n",
    "    #print(batch.sms[1])\n",
    "    print(\"The maximum length of input sequence in batch\", i+1, \"is:\", np.array(torch.max(batch.sms[1]))) \n",
    "    for j in range(len(batch.sms[0])):\n",
    "      count=count+np.count_nonzero(np.array(batch.sms[0][j])==1) #pad token has index of 1\n",
    "    print(\"The number of times <pad> token was used in batch\",i+1,\"is:\",count)\n",
    "  else:\n",
    "    break\n",
    "  i=i+1\n",
    "  print()"
   ]
  },
  {
   "cell_type": "markdown",
   "metadata": {
    "id": "y7HnqP6_a904"
   },
   "source": [
    "### Model Building\n",
    "\n",
    "I will build a recurrent neural network model using the one-hot embedding of each character as input to the recurrent network.\n",
    "\n",
    "Instead of using the RNN output value for the final token, another often used\n",
    "strategy is to max-pool over the entire output array. That is, instead of calling\n",
    "something like:\n",
    "\n",
    "```\n",
    "out, _ = self.rnn(x)\n",
    "self.fc(out[:, -1, :])\n",
    "```\n",
    "\n",
    "where `self.rnn` is an `nn.RNN`, `nn.GRU`, or `nn.LSTM` module, and `self.fc` is a \n",
    "fully-connected \n",
    "layer, we use:\n",
    "\n",
    "```\n",
    "out, _ = self.rnn(x)\n",
    "self.fc(torch.max(out, dim=1)[0])\n",
    "```\n",
    "\n",
    "This works reasonably in practice. An even better alternative is to concatenate the\n",
    "max-pooling and average-pooling of the RNN outputs:\n",
    "\n",
    "```\n",
    "out, _ = self.rnn(x)\n",
    "out = torch.cat([torch.max(out, dim=1)[0], \n",
    "                 torch.mean(out, dim=1)], dim=1)\n",
    "self.fc(out)\n",
    "```"
   ]
  },
  {
   "cell_type": "code",
   "execution_count": null,
   "metadata": {
    "id": "r2MKRYpWK6V4"
   },
   "outputs": [],
   "source": [
    "def one_hot_encoding_embedding_build(x):\n",
    "  text_field.build_vocab(train)\n",
    "  ident = torch.eye(len(text_field.vocab.stoi))\n",
    "  for i in range(0,len(x)):\n",
    "      a = ident[x[i]].unsqueeze(0)\n",
    "      if i==0:\n",
    "        a_new=a\n",
    "      else:\n",
    "        a_new=torch.cat((a_new,a),dim=0)\n",
    "  return a_new"
   ]
  },
  {
   "cell_type": "code",
   "execution_count": null,
   "metadata": {
    "id": "GCqNvMbOA43N"
   },
   "outputs": [],
   "source": [
    "class RNN(nn.Module):\n",
    "    def __init__(self, input_size, hidden_size, num_classes):\n",
    "        super(RNN, self).__init__()\n",
    "        self.emb = one_hot_encoding_embedding_build\n",
    "        self.hidden_size = hidden_size\n",
    "        self.rnn = nn.RNN(input_size, hidden_size, batch_first=True)\n",
    "        self.fc = nn.Linear(hidden_size, num_classes)\n",
    "    \n",
    "    def forward(self, x):\n",
    "        x = self.emb(x)\n",
    "        h0 = torch.zeros(1, x.size(0), self.hidden_size)\n",
    "        out, _ = self.rnn(x, h0)\n",
    "        out = self.fc(torch.max(out, dim=1)[0])\n",
    "        return out"
   ]
  },
  {
   "cell_type": "code",
   "execution_count": null,
   "metadata": {
    "id": "EaUyXK_5CPf7"
   },
   "outputs": [],
   "source": [
    "model=RNN(len(text_field.vocab.stoi),50,2)"
   ]
  },
  {
   "cell_type": "markdown",
   "metadata": {
    "id": "vKIYPl_Ba90_"
   },
   "source": [
    "### Training"
   ]
  },
  {
   "cell_type": "code",
   "execution_count": null,
   "metadata": {
    "id": "SJO2PZ8L52x2"
   },
   "outputs": [],
   "source": [
    "valid_iter = torchtext.legacy.data.BucketIterator(valid,\n",
    "                                           batch_size=32,\n",
    "                                           sort_key=lambda x: len(x.sms),\n",
    "                                           sort_within_batch=True,\n",
    "                                           repeat=False)"
   ]
  },
  {
   "cell_type": "code",
   "execution_count": null,
   "metadata": {
    "id": "pvNfhGD6a91A"
   },
   "outputs": [],
   "source": [
    "def get_accuracy(model, data):\n",
    "    correct, total = 0, 0\n",
    "    for batch in data:\n",
    "      length=len(batch)\n",
    "      y=batch.sms[0]\n",
    "      label=batch.label\n",
    "      output = model(y)\n",
    "      pred = output.max(1, keepdim=True)[1]\n",
    "      correct += pred.eq(label.view_as(pred)).sum().item()\n",
    "      total += length\n",
    "    return correct/total"
   ]
  },
  {
   "cell_type": "code",
   "execution_count": null,
   "metadata": {
    "id": "CVtf7CJCa91D"
   },
   "outputs": [],
   "source": [
    "import matplotlib.pyplot as plt\n",
    "\n",
    "def train_rnn_network(model, train, valid, num_epochs=5, learning_rate=1e-5):\n",
    "    criterion = nn.CrossEntropyLoss()\n",
    "    optimizer = torch.optim.Adam(model.parameters(), lr=learning_rate)\n",
    "    losses, train_acc, valid_acc = [], [], []\n",
    "    epochs = []\n",
    "    for epoch in range(num_epochs):\n",
    "        for batch in train:\n",
    "            optimizer.zero_grad()\n",
    "            pred = model(batch.sms[0])\n",
    "            loss = criterion(pred, batch.label)\n",
    "            loss.backward()\n",
    "            optimizer.step()\n",
    "        losses.append(float(loss))\n",
    "\n",
    "        epochs.append(epoch)\n",
    "        train_acc.append(get_accuracy(model, train))\n",
    "        valid_acc.append(get_accuracy(model, valid))\n",
    "        print(\"Epoch %d; Loss %f; Train Acc %f; Val Acc %f\" % (\n",
    "              epoch+1, loss, train_acc[-1], valid_acc[-1]))\n",
    "    # plotting\n",
    "    plt.title(\"Training Curve\")\n",
    "    plt.plot(losses, label=\"Train\")\n",
    "    plt.xlabel(\"Epoch\")\n",
    "    plt.ylabel(\"Loss\")\n",
    "    plt.show()\n",
    "\n",
    "    plt.title(\"Training Curve\")\n",
    "    plt.plot(epochs, train_acc, label=\"Train\")\n",
    "    plt.plot(epochs, valid_acc, label=\"Validation\")\n",
    "    plt.xlabel(\"Epoch\")\n",
    "    plt.ylabel(\"Accuracy\")\n",
    "    plt.legend(loc='best')\n",
    "    plt.show()"
   ]
  },
  {
   "cell_type": "code",
   "execution_count": null,
   "metadata": {
    "colab": {
     "base_uri": "https://localhost:8080/",
     "height": 913
    },
    "id": "yGDhtmrbSFwR",
    "outputId": "8752d4ac-f872-46f3-f90c-864a8531d941"
   },
   "outputs": [
    {
     "name": "stdout",
     "output_type": "stream",
     "text": [
      "Epoch 1; Loss 0.699834; Train Acc 0.535528; Val Acc 0.178475\n",
      "Epoch 2; Loss 0.644039; Train Acc 0.876365; Val Acc 0.844843\n",
      "Epoch 3; Loss 0.285819; Train Acc 0.897867; Val Acc 0.947085\n",
      "Epoch 4; Loss 0.360811; Train Acc 0.933983; Val Acc 0.904933\n",
      "Epoch 5; Loss 0.196382; Train Acc 0.940198; Val Acc 0.941704\n",
      "Epoch 6; Loss 0.218667; Train Acc 0.938350; Val Acc 0.957848\n",
      "Epoch 7; Loss 0.204333; Train Acc 0.947421; Val Acc 0.922870\n",
      "Epoch 8; Loss 0.197924; Train Acc 0.952965; Val Acc 0.939013\n",
      "Epoch 9; Loss 0.137086; Train Acc 0.952293; Val Acc 0.958744\n",
      "Epoch 10; Loss 0.109422; Train Acc 0.952125; Val Acc 0.959641\n",
      "Epoch 11; Loss 0.058031; Train Acc 0.957836; Val Acc 0.942601\n",
      "Epoch 12; Loss 0.098960; Train Acc 0.957500; Val Acc 0.958744\n",
      "Epoch 13; Loss 0.092481; Train Acc 0.954309; Val Acc 0.964126\n",
      "Epoch 14; Loss 0.061649; Train Acc 0.950445; Val Acc 0.965022\n",
      "Epoch 15; Loss 0.115757; Train Acc 0.951957; Val Acc 0.965022\n",
      "Epoch 16; Loss 0.018911; Train Acc 0.952797; Val Acc 0.926457\n",
      "Epoch 17; Loss 0.046965; Train Acc 0.953133; Val Acc 0.968610\n",
      "Epoch 18; Loss 0.062576; Train Acc 0.969763; Val Acc 0.953363\n",
      "Epoch 19; Loss 0.086926; Train Acc 0.969427; Val Acc 0.966816\n",
      "Epoch 20; Loss 0.027063; Train Acc 0.968251; Val Acc 0.965919\n"
     ]
    },
    {
     "data": {
      "image/png": "[encoded data removed]",
      "text/plain": [
       "<Figure size 432x288 with 1 Axes>"
      ]
     },
     "metadata": {
      "needs_background": "light"
     },
     "output_type": "display_data"
    },
    {
     "data": {
      "image/png": "[encoded data removed]",
      "text/plain": [
       "<Figure size 432x288 with 1 Axes>"
      ]
     },
     "metadata": {
      "needs_background": "light"
     },
     "output_type": "display_data"
    }
   ],
   "source": [
    "train_rnn_network(model, train_iter, valid_iter, num_epochs=20, learning_rate=1e-4)"
   ]
  },
  {
   "cell_type": "markdown",
   "metadata": {
    "id": "fE3eRkDAa91F"
   },
   "source": [
    "### Hyperparameter Tuning"
   ]
  },
  {
   "cell_type": "markdown",
   "metadata": {
    "id": "H0e54tX_2oBd"
   },
   "source": [
    "**Hyperparameter tuning 1: Increasing Batch Size**\n",
    "\n",
    "I will try increasing the batch size, which is supposed to increase the accuracy of our model."
   ]
  },
  {
   "cell_type": "code",
   "execution_count": null,
   "metadata": {
    "id": "A2GEWfDca91G"
   },
   "outputs": [],
   "source": [
    "train_iter2 = torchtext.legacy.data.BucketIterator(train,\n",
    "                                           batch_size=64,\n",
    "                                           sort_key=lambda x: len(x.sms),\n",
    "                                           sort_within_batch=True,\n",
    "                                           repeat=False)"
   ]
  },
  {
   "cell_type": "code",
   "execution_count": null,
   "metadata": {
    "id": "qMSFqOQ3GmL7"
   },
   "outputs": [],
   "source": [
    "valid_iter2 = torchtext.legacy.data.BucketIterator(valid,\n",
    "                                           batch_size=64,\n",
    "                                           sort_key=lambda x: len(x.sms),\n",
    "                                           sort_within_batch=True,\n",
    "                                           repeat=False)"
   ]
  },
  {
   "cell_type": "code",
   "execution_count": null,
   "metadata": {
    "id": "tVEkFhbH3Fdo"
   },
   "outputs": [],
   "source": [
    "model2=RNN(len(text_field.vocab.stoi),50,2)"
   ]
  },
  {
   "cell_type": "code",
   "execution_count": null,
   "metadata": {
    "colab": {
     "base_uri": "https://localhost:8080/",
     "height": 913
    },
    "id": "6aBFRmQR3J6Z",
    "outputId": "9168bccd-df9b-4941-9a30-af7682bd3ab2"
   },
   "outputs": [
    {
     "name": "stdout",
     "output_type": "stream",
     "text": [
      "Epoch 1; Loss 0.696584; Train Acc 0.646878; Val Acc 0.814350\n",
      "Epoch 2; Loss 0.677773; Train Acc 0.859025; Val Acc 0.899552\n",
      "Epoch 3; Loss 0.676679; Train Acc 0.907442; Val Acc 0.924664\n",
      "Epoch 4; Loss 0.669713; Train Acc 0.944910; Val Acc 0.954260\n",
      "Epoch 5; Loss 0.592694; Train Acc 0.916510; Val Acc 0.958744\n",
      "Epoch 6; Loss 0.450528; Train Acc 0.880924; Val Acc 0.926457\n",
      "Epoch 7; Loss 0.330012; Train Acc 0.915654; Val Acc 0.854709\n",
      "Epoch 8; Loss 0.366223; Train Acc 0.910351; Val Acc 0.907623\n",
      "Epoch 9; Loss 0.314143; Train Acc 0.892729; Val Acc 0.964126\n",
      "Epoch 10; Loss 0.201526; Train Acc 0.935158; Val Acc 0.956054\n",
      "Epoch 11; Loss 0.127030; Train Acc 0.942344; Val Acc 0.954260\n",
      "Epoch 12; Loss 0.245050; Train Acc 0.941831; Val Acc 0.921973\n",
      "Epoch 13; Loss 0.192180; Train Acc 0.941831; Val Acc 0.959641\n",
      "Epoch 14; Loss 0.260718; Train Acc 0.945766; Val Acc 0.944395\n",
      "Epoch 15; Loss 0.109240; Train Acc 0.912575; Val Acc 0.971300\n",
      "Epoch 16; Loss 0.227271; Train Acc 0.937382; Val Acc 0.969507\n",
      "Epoch 17; Loss 0.277997; Train Acc 0.942686; Val Acc 0.974888\n",
      "Epoch 18; Loss 0.105559; Train Acc 0.948161; Val Acc 0.968610\n",
      "Epoch 19; Loss 0.259201; Train Acc 0.952609; Val Acc 0.962332\n",
      "Epoch 20; Loss 0.267342; Train Acc 0.952780; Val Acc 0.952466\n"
     ]
    },
    {
     "data": {
      "image/png": "[encoded data removed]",
      "text/plain": [
       "<Figure size 432x288 with 1 Axes>"
      ]
     },
     "metadata": {
      "needs_background": "light"
     },
     "output_type": "display_data"
    },
    {
     "data": {
      "image/png": "[encoded data removed]",
      "text/plain": [
       "<Figure size 432x288 with 1 Axes>"
      ]
     },
     "metadata": {
      "needs_background": "light"
     },
     "output_type": "display_data"
    }
   ],
   "source": [
    "train_rnn_network(model2, train_iter2, valid_iter2, num_epochs=20, learning_rate=1e-4)"
   ]
  },
  {
   "cell_type": "markdown",
   "metadata": {
    "id": "C3yzPSng3UkM"
   },
   "source": [
    "**Hyperparameter tuning 2: LSTM**"
   ]
  },
  {
   "cell_type": "markdown",
   "metadata": {
    "id": "ZPzGTItJDnK6"
   },
   "source": [
    "The reason why I chose to use LSTM instead of RNN is because it might increase the accuracy by tackling the diminishing gradient issue. However, this is more computationally expensive."
   ]
  },
  {
   "cell_type": "code",
   "execution_count": null,
   "metadata": {
    "id": "CaJXOBvy3UNR"
   },
   "outputs": [],
   "source": [
    "class RNN3(nn.Module):\n",
    "    def __init__(self, input_size, hidden_size, num_classes):\n",
    "        super(RNN3, self).__init__()\n",
    "        self.emb = one_hot_encoding_embedding_build\n",
    "        self.hidden_size = hidden_size\n",
    "        self.rnn = nn.LSTM(input_size, hidden_size, batch_first=True)\n",
    "        self.fc = nn.Linear(hidden_size, num_classes)\n",
    "    \n",
    "    def forward(self, x):\n",
    "        x = self.emb(x)\n",
    "        h0 = torch.zeros(1, x.size(0), self.hidden_size)\n",
    "        c0 = torch.zeros(1, x.size(0), self.hidden_size)\n",
    "        out, _ = self.rnn(x, (h0,c0))\n",
    "        out = self.fc(torch.max(out, dim=1)[0])\n",
    "        return out"
   ]
  },
  {
   "cell_type": "code",
   "execution_count": null,
   "metadata": {
    "id": "9gLo8AUh4omT"
   },
   "outputs": [],
   "source": [
    "model3=RNN3(len(text_field.vocab.stoi),50,2)"
   ]
  },
  {
   "cell_type": "code",
   "execution_count": null,
   "metadata": {
    "colab": {
     "base_uri": "https://localhost:8080/",
     "height": 913
    },
    "id": "fUvP8LR84qHt",
    "outputId": "d39c3c97-c8a6-41be-edca-429eead6ac15"
   },
   "outputs": [
    {
     "name": "stdout",
     "output_type": "stream",
     "text": [
      "Epoch 1; Loss 0.744967; Train Acc 0.488493; Val Acc 0.862780\n",
      "Epoch 2; Loss 0.684952; Train Acc 0.836049; Val Acc 0.947085\n",
      "Epoch 3; Loss 0.263320; Train Acc 0.934151; Val Acc 0.921973\n",
      "Epoch 4; Loss 0.521875; Train Acc 0.918025; Val Acc 0.966816\n",
      "Epoch 5; Loss 0.557541; Train Acc 0.921384; Val Acc 0.965022\n",
      "Epoch 6; Loss 0.506237; Train Acc 0.919200; Val Acc 0.971300\n",
      "Epoch 7; Loss 0.133794; Train Acc 0.919200; Val Acc 0.971300\n",
      "Epoch 8; Loss 0.182170; Train Acc 0.921888; Val Acc 0.962332\n",
      "Epoch 9; Loss 0.261686; Train Acc 0.916009; Val Acc 0.969507\n",
      "Epoch 10; Loss 0.353247; Train Acc 0.915001; Val Acc 0.970404\n",
      "Epoch 11; Loss 0.281820; Train Acc 0.904082; Val Acc 0.967713\n",
      "Epoch 12; Loss 0.516990; Train Acc 0.917353; Val Acc 0.971300\n",
      "Epoch 13; Loss 0.054380; Train Acc 0.918864; Val Acc 0.971300\n",
      "Epoch 14; Loss 0.305954; Train Acc 0.935327; Val Acc 0.965022\n",
      "Epoch 15; Loss 0.141524; Train Acc 0.919536; Val Acc 0.972197\n",
      "Epoch 16; Loss 0.193883; Train Acc 0.917185; Val Acc 0.972197\n",
      "Epoch 17; Loss 0.221024; Train Acc 0.953469; Val Acc 0.968610\n",
      "Epoch 18; Loss 0.383106; Train Acc 0.949941; Val Acc 0.969507\n",
      "Epoch 19; Loss 0.434235; Train Acc 0.952965; Val Acc 0.957848\n",
      "Epoch 20; Loss 0.048598; Train Acc 0.955485; Val Acc 0.969507\n"
     ]
    },
    {
     "data": {
      "image/png": "[encoded data removed]",
      "text/plain": [
       "<Figure size 432x288 with 1 Axes>"
      ]
     },
     "metadata": {
      "needs_background": "light"
     },
     "output_type": "display_data"
    },
    {
     "data": {
      "image/png": "[encoded data removed]",
      "text/plain": [
       "<Figure size 432x288 with 1 Axes>"
      ]
     },
     "metadata": {
      "needs_background": "light"
     },
     "output_type": "display_data"
    }
   ],
   "source": [
    "train_rnn_network(model3, train_iter, valid_iter, num_epochs=20, learning_rate=1e-4)"
   ]
  },
  {
   "cell_type": "markdown",
   "metadata": {
    "id": "SoiX2PNm5A-S"
   },
   "source": [
    "**Hyperparameter tuning 3: GRU**"
   ]
  },
  {
   "cell_type": "markdown",
   "metadata": {
    "id": "t-_z-5uMD0CJ"
   },
   "source": [
    "The reason why I chose to try GRU is because it is now more common than LSTM, and still helps to improve the accuracy but without adding the cell state, making it less computationally expensive than LSTM."
   ]
  },
  {
   "cell_type": "code",
   "execution_count": null,
   "metadata": {
    "id": "lIz3hog95F6w"
   },
   "outputs": [],
   "source": [
    "class RNN4(nn.Module):\n",
    "    def __init__(self, input_size, hidden_size, num_classes):\n",
    "        super(RNN4, self).__init__()\n",
    "        self.emb = one_hot_encoding_embedding_build\n",
    "        self.hidden_size = hidden_size\n",
    "        self.rnn = nn.GRU(input_size, hidden_size, batch_first=True)\n",
    "        self.fc = nn.Linear(hidden_size, num_classes)\n",
    "    \n",
    "    def forward(self, x):\n",
    "        x = self.emb(x)\n",
    "        h0 = torch.zeros(1, x.size(0), self.hidden_size)\n",
    "        out, _ = self.rnn(x, h0)\n",
    "        out = self.fc(torch.max(out, dim=1)[0])\n",
    "        return out"
   ]
  },
  {
   "cell_type": "code",
   "execution_count": null,
   "metadata": {
    "id": "yyooE-od5Ksz"
   },
   "outputs": [],
   "source": [
    "model4=RNN4(len(text_field.vocab.stoi),50,2)"
   ]
  },
  {
   "cell_type": "code",
   "execution_count": null,
   "metadata": {
    "colab": {
     "base_uri": "https://localhost:8080/",
     "height": 913
    },
    "id": "2FNWG2gw5NYE",
    "outputId": "8b901d87-e6dc-44a5-8f8b-fffb93804151"
   },
   "outputs": [
    {
     "name": "stdout",
     "output_type": "stream",
     "text": [
      "Epoch 1; Loss 0.769966; Train Acc 0.511507; Val Acc 0.137220\n",
      "Epoch 2; Loss 0.718627; Train Acc 0.512515; Val Acc 0.138117\n",
      "Epoch 3; Loss 0.701900; Train Acc 0.560390; Val Acc 0.236771\n",
      "Epoch 4; Loss 0.382952; Train Acc 0.928607; Val Acc 0.906726\n",
      "Epoch 5; Loss 0.113661; Train Acc 0.929111; Val Acc 0.942601\n",
      "Epoch 6; Loss 0.472068; Train Acc 0.921384; Val Acc 0.958744\n",
      "Epoch 7; Loss 0.354138; Train Acc 0.922056; Val Acc 0.965919\n",
      "Epoch 8; Loss 0.257899; Train Acc 0.938182; Val Acc 0.944395\n",
      "Epoch 9; Loss 0.229538; Train Acc 0.942550; Val Acc 0.936323\n",
      "Epoch 10; Loss 0.263372; Train Acc 0.940870; Val Acc 0.947982\n",
      "Epoch 11; Loss 0.393601; Train Acc 0.946246; Val Acc 0.941704\n",
      "Epoch 12; Loss 0.112952; Train Acc 0.943222; Val Acc 0.943498\n",
      "Epoch 13; Loss 0.399686; Train Acc 0.931463; Val Acc 0.953363\n",
      "Epoch 14; Loss 0.402506; Train Acc 0.931967; Val Acc 0.955157\n",
      "Epoch 15; Loss 0.123511; Train Acc 0.933143; Val Acc 0.954260\n",
      "Epoch 16; Loss 0.377281; Train Acc 0.932471; Val Acc 0.955157\n",
      "Epoch 17; Loss 0.128114; Train Acc 0.934151; Val Acc 0.956054\n",
      "Epoch 18; Loss 0.318646; Train Acc 0.933815; Val Acc 0.956054\n",
      "Epoch 19; Loss 0.027635; Train Acc 0.936335; Val Acc 0.955157\n",
      "Epoch 20; Loss 0.206326; Train Acc 0.938182; Val Acc 0.956951\n"
     ]
    },
    {
     "data": {
      "image/png": "[encoded data removed]",
      "text/plain": [
       "<Figure size 432x288 with 1 Axes>"
      ]
     },
     "metadata": {
      "needs_background": "light"
     },
     "output_type": "display_data"
    },
    {
     "data": {
      "image/png": "[encoded data removed]",
      "text/plain": [
       "<Figure size 432x288 with 1 Axes>"
      ]
     },
     "metadata": {
      "needs_background": "light"
     },
     "output_type": "display_data"
    }
   ],
   "source": [
    "train_rnn_network(model4, train_iter, valid_iter, num_epochs=20, learning_rate=1e-4)"
   ]
  },
  {
   "cell_type": "markdown",
   "metadata": {
    "id": "w2Fa76jR5VjN"
   },
   "source": [
    "**Hyperparameter tuning 4: Increasing Hidden Size**"
   ]
  },
  {
   "cell_type": "markdown",
   "metadata": {
    "id": "9Zr9L4ZtD9pe"
   },
   "source": [
    "The reason why I am choosing to tune the hidden size is because we need to see how it changes the accuracy of the model, which is mostly done by trial and error. For this reason, I will increase it."
   ]
  },
  {
   "cell_type": "code",
   "execution_count": null,
   "metadata": {
    "id": "_dIYVuZ6CPYn"
   },
   "outputs": [],
   "source": [
    "model5=RNN(len(text_field.vocab.stoi),100,2)"
   ]
  },
  {
   "cell_type": "code",
   "execution_count": null,
   "metadata": {
    "colab": {
     "base_uri": "https://localhost:8080/",
     "height": 913
    },
    "id": "ns9NN6SJCVZr",
    "outputId": "938d5524-b354-417c-9198-e0e93f4dd91a"
   },
   "outputs": [
    {
     "name": "stdout",
     "output_type": "stream",
     "text": [
      "Epoch 1; Loss 0.620101; Train Acc 0.737107; Val Acc 0.539013\n",
      "Epoch 2; Loss 0.457190; Train Acc 0.913489; Val Acc 0.949776\n",
      "Epoch 3; Loss 0.184086; Train Acc 0.930623; Val Acc 0.961435\n",
      "Epoch 4; Loss 0.217576; Train Acc 0.931127; Val Acc 0.970404\n",
      "Epoch 5; Loss 0.141415; Train Acc 0.948765; Val Acc 0.951570\n",
      "Epoch 6; Loss 0.118933; Train Acc 0.942886; Val Acc 0.968610\n",
      "Epoch 7; Loss 0.135151; Train Acc 0.946078; Val Acc 0.969507\n",
      "Epoch 8; Loss 0.190780; Train Acc 0.954141; Val Acc 0.948879\n",
      "Epoch 9; Loss 0.028864; Train Acc 0.958172; Val Acc 0.965022\n",
      "Epoch 10; Loss 0.097437; Train Acc 0.958676; Val Acc 0.967713\n",
      "Epoch 11; Loss 0.012273; Train Acc 0.958172; Val Acc 0.950673\n",
      "Epoch 12; Loss 0.167477; Train Acc 0.964892; Val Acc 0.965919\n",
      "Epoch 13; Loss 0.060267; Train Acc 0.962372; Val Acc 0.963229\n",
      "Epoch 14; Loss 0.074609; Train Acc 0.968083; Val Acc 0.952466\n",
      "Epoch 15; Loss 0.018452; Train Acc 0.969931; Val Acc 0.965919\n",
      "Epoch 16; Loss 0.020536; Train Acc 0.958004; Val Acc 0.965919\n",
      "Epoch 17; Loss 0.020461; Train Acc 0.965060; Val Acc 0.966816\n",
      "Epoch 18; Loss 0.033363; Train Acc 0.974299; Val Acc 0.962332\n",
      "Epoch 19; Loss 0.058066; Train Acc 0.976650; Val Acc 0.961435\n",
      "Epoch 20; Loss 0.007411; Train Acc 0.973627; Val Acc 0.954260\n"
     ]
    },
    {
     "data": {
      "image/png": "[encoded data removed]",
      "text/plain": [
       "<Figure size 432x288 with 1 Axes>"
      ]
     },
     "metadata": {
      "needs_background": "light"
     },
     "output_type": "display_data"
    },
    {
     "data": {
      "image/png": "[encoded data removed]",
      "text/plain": [
       "<Figure size 432x288 with 1 Axes>"
      ]
     },
     "metadata": {
      "needs_background": "light"
     },
     "output_type": "display_data"
    }
   ],
   "source": [
    "train_rnn_network(model5, train_iter, valid_iter, num_epochs=20, learning_rate=1e-4)"
   ]
  },
  {
   "cell_type": "markdown",
   "metadata": {
    "id": "-l4i3l8iIAGT"
   },
   "source": [
    "**Hyperparameter tuning 5: Pooling of RNN**"
   ]
  },
  {
   "cell_type": "markdown",
   "metadata": {
    "id": "prx4HvinIEGh"
   },
   "source": [
    "It is interesting to see the different effects of pooling the RNN, in the first method, I used the max pooling, but in this case we are just selecting the last token. I expect this will decrease the accuracy of the model, but want to test it to check."
   ]
  },
  {
   "cell_type": "code",
   "execution_count": null,
   "metadata": {
    "id": "NuV5Gol-IkrR"
   },
   "outputs": [],
   "source": [
    "class RNN5(nn.Module):\n",
    "    def __init__(self, input_size, hidden_size, num_classes):\n",
    "        super(RNN5, self).__init__()\n",
    "        self.emb = one_hot_encoding_embedding_build\n",
    "        self.hidden_size = hidden_size\n",
    "        self.rnn = nn.RNN(input_size, hidden_size, batch_first=True)\n",
    "        self.fc = nn.Linear(hidden_size, num_classes)\n",
    "    \n",
    "    def forward(self, x):\n",
    "        x = self.emb(x)\n",
    "        h0 = torch.zeros(1, x.size(0), self.hidden_size)\n",
    "        out, _ = self.rnn(x, h0)\n",
    "        out = self.fc(out[:, -1, :])\n",
    "        return out"
   ]
  },
  {
   "cell_type": "code",
   "execution_count": null,
   "metadata": {
    "id": "wVL-CMdSIZfc"
   },
   "outputs": [],
   "source": [
    "model7=RNN5(len(text_field.vocab.stoi),30,2)"
   ]
  },
  {
   "cell_type": "code",
   "execution_count": null,
   "metadata": {
    "colab": {
     "base_uri": "https://localhost:8080/",
     "height": 913
    },
    "id": "7NXHvl2vJUiU",
    "outputId": "74e1f708-d250-471f-b306-e7b043af7a20"
   },
   "outputs": [
    {
     "name": "stdout",
     "output_type": "stream",
     "text": [
      "Epoch 1; Loss 0.663730; Train Acc 0.528315; Val Acc 0.766816\n",
      "Epoch 2; Loss 0.654128; Train Acc 0.567836; Val Acc 0.775785\n",
      "Epoch 3; Loss 0.715779; Train Acc 0.621386; Val Acc 0.705830\n",
      "Epoch 4; Loss 0.685987; Train Acc 0.694782; Val Acc 0.713901\n",
      "Epoch 5; Loss 0.596577; Train Acc 0.860907; Val Acc 0.878924\n",
      "Epoch 6; Loss 0.625004; Train Acc 0.860393; Val Acc 0.797309\n",
      "Epoch 7; Loss 0.292158; Train Acc 0.881779; Val Acc 0.845740\n",
      "Epoch 8; Loss 0.667099; Train Acc 0.824979; Val Acc 0.925561\n",
      "Epoch 9; Loss 0.410113; Train Acc 0.870145; Val Acc 0.940807\n",
      "Epoch 10; Loss 0.220866; Train Acc 0.899572; Val Acc 0.943498\n",
      "Epoch 11; Loss 0.080291; Train Acc 0.922669; Val Acc 0.931839\n",
      "Epoch 12; Loss 0.217951; Train Acc 0.922327; Val Acc 0.942601\n",
      "Epoch 13; Loss 0.266583; Train Acc 0.923695; Val Acc 0.943498\n",
      "Epoch 14; Loss 0.354773; Train Acc 0.924038; Val Acc 0.941704\n",
      "Epoch 15; Loss 0.391499; Train Acc 0.926775; Val Acc 0.933632\n",
      "Epoch 16; Loss 0.477975; Train Acc 0.926604; Val Acc 0.935426\n",
      "Epoch 17; Loss 0.140343; Train Acc 0.927288; Val Acc 0.935426\n",
      "Epoch 18; Loss 0.192541; Train Acc 0.872198; Val Acc 0.823318\n",
      "Epoch 19; Loss 0.155069; Train Acc 0.930197; Val Acc 0.937220\n",
      "Epoch 20; Loss 0.052176; Train Acc 0.925577; Val Acc 0.941704\n"
     ]
    },
    {
     "data": {
      "image/png": "[encoded data removed]",
      "text/plain": [
       "<Figure size 432x288 with 1 Axes>"
      ]
     },
     "metadata": {
      "needs_background": "light"
     },
     "output_type": "display_data"
    },
    {
     "data": {
      "image/png": "[encoded data removed]",
      "text/plain": [
       "<Figure size 432x288 with 1 Axes>"
      ]
     },
     "metadata": {
      "needs_background": "light"
     },
     "output_type": "display_data"
    }
   ],
   "source": [
    "train_rnn_network(model7, train_iter, valid_iter, num_epochs=20, learning_rate=1e-4)"
   ]
  },
  {
   "cell_type": "markdown",
   "metadata": {
    "id": "MMeG3XO5phOe"
   },
   "source": [
    "The model that gave us the highest validation accuracy was the one where I implemented nn.LSTM."
   ]
  },
  {
   "cell_type": "markdown",
   "metadata": {
    "id": "v7DY56rKa91I"
   },
   "source": [
    "Before deploying a machine learning model, we usually want to have a better understanding\n",
    "of how our model performs beyond its validation accuracy. An important metric to track is\n",
    "how well our model performs in certain subsets of the data.\n",
    "\n",
    "In particular, what is the model's error rate amongst data with negative labels?\n",
    "This is called the **false positive rate**.\n",
    "\n",
    "What about the model's error rate amongst data with positive labels?\n",
    "This is called the **false negative rate**."
   ]
  },
  {
   "cell_type": "code",
   "execution_count": null,
   "metadata": {
    "id": "7ggbQSdba91J"
   },
   "outputs": [],
   "source": [
    "# Create a Dataset of only spam validation examples\n",
    "valid_spam = torchtext.legacy.data.Dataset(\n",
    "    [e for e in valid.examples if e.label == 1],\n",
    "    valid.fields)\n",
    "# Create a Dataset of only non-spam validation examples\n",
    "valid_nospam = torchtext.legacy.data.Dataset(\n",
    "    [e for e in valid.examples if e.label == 0],\n",
    "    valid.fields)"
   ]
  },
  {
   "cell_type": "code",
   "execution_count": null,
   "metadata": {
    "id": "mFVFRAt0xmvF"
   },
   "outputs": [],
   "source": [
    "valid_spam_iter=torchtext.legacy.data.BucketIterator(valid_spam,\n",
    "                                           batch_size=32,\n",
    "                                           sort_key=lambda x: len(x.sms), # to minimize padding\n",
    "                                           sort_within_batch=True,        # sort within each batch\n",
    "                                           repeat=False)                  # repeat the iterator for many epochs"
   ]
  },
  {
   "cell_type": "code",
   "execution_count": null,
   "metadata": {
    "id": "8A84ILdpDlCW"
   },
   "outputs": [],
   "source": [
    "FPR=get_accuracy(model, valid_spam_iter)"
   ]
  },
  {
   "cell_type": "code",
   "execution_count": null,
   "metadata": {
    "colab": {
     "base_uri": "https://localhost:8080/"
    },
    "id": "kAjsm7OWbTzk",
    "outputId": "d116f0a8-f024-430a-ad21-ed693d45f5c7"
   },
   "outputs": [
    {
     "name": "stdout",
     "output_type": "stream",
     "text": [
      "The false positive rate of this model is: 0.042944785276073594\n"
     ]
    }
   ],
   "source": [
    "print(\"The false positive rate of this model is:\", 1-FPR)"
   ]
  },
  {
   "cell_type": "code",
   "execution_count": null,
   "metadata": {
    "id": "Id5x6jZCbWAQ"
   },
   "outputs": [],
   "source": [
    "valid_nospam_iter=torchtext.legacy.data.BucketIterator(valid_nospam,\n",
    "                                           batch_size=32,\n",
    "                                           sort_key=lambda x: len(x.sms), # to minimize padding\n",
    "                                           sort_within_batch=True,        # sort within each batch\n",
    "                                           repeat=False)                  # repeat the iterator for many epochs"
   ]
  },
  {
   "cell_type": "code",
   "execution_count": null,
   "metadata": {
    "id": "F7TCY9W8bbUP"
   },
   "outputs": [],
   "source": [
    "FNR=get_accuracy(model, valid_nospam_iter)"
   ]
  },
  {
   "cell_type": "code",
   "execution_count": null,
   "metadata": {
    "colab": {
     "base_uri": "https://localhost:8080/"
    },
    "id": "GlFnwv49bfe_",
    "outputId": "ee5dfdc4-934d-4444-e904-32f2c420fd1f"
   },
   "outputs": [
    {
     "name": "stdout",
     "output_type": "stream",
     "text": [
      "The false negative rate of this model is: 0.03361344537815125\n"
     ]
    }
   ],
   "source": [
    "print(\"The false negative rate of this model is:\", 1-FNR)"
   ]
  },
  {
   "cell_type": "markdown",
   "metadata": {
    "id": "m5iGKaWFbpME"
   },
   "source": [
    "The effect of a false positive is not that alarming, because it would consider an sms that is not spam to be spam, and that could be retrieved. However, it could be inefficient because if we had an important sms that was sent to spam when it was actually not spam would disrupt some businesses.\n",
    "\n",
    "On the other hand, the effect of a false negative is more dangerous, and this is where it would allow a spam sms to pass through, and that could lead to dangerous outcomes. So having a false negative rate of 0.033 could be considered good, but in this case it is actually dangerous. Consider a large company that receives thousands of emails per day, if out of every 100 spam emails it allows 3 to pass through, this is bad."
   ]
  },
  {
   "cell_type": "markdown",
   "metadata": {
    "id": "Gznefulsa91V"
   },
   "source": [
    "### Evaluation"
   ]
  },
  {
   "cell_type": "code",
   "execution_count": null,
   "metadata": {
    "id": "0atX97BrMNac"
   },
   "outputs": [],
   "source": [
    "test_iter = torchtext.legacy.data.BucketIterator(test,\n",
    "                                           batch_size=32,\n",
    "                                           sort_key=lambda x: len(x.sms),\n",
    "                                           sort_within_batch=True,\n",
    "                                           repeat=False)"
   ]
  },
  {
   "cell_type": "code",
   "execution_count": null,
   "metadata": {
    "colab": {
     "base_uri": "https://localhost:8080/"
    },
    "id": "D5L5D-A1a91W",
    "outputId": "efc0a63d-f3fc-4143-d904-f10352c85d8a"
   },
   "outputs": [
    {
     "name": "stdout",
     "output_type": "stream",
     "text": [
      "The test accuracy of the model is: 0.9631956912028725\n"
     ]
    }
   ],
   "source": [
    "test_accuracy=get_accuracy(model, test_iter)\n",
    "print(\"The test accuracy of the model is:\", test_accuracy)"
   ]
  },
  {
   "cell_type": "code",
   "execution_count": null,
   "metadata": {
    "id": "GFiAKztJa91Z"
   },
   "outputs": [],
   "source": [
    "# Create a Dataset of only spam validation examples\n",
    "test_spam = torchtext.legacy.data.Dataset(\n",
    "    [e for e in test.examples if e.label == 1],\n",
    "    test.fields)\n",
    "# Create a Dataset of only non-spam validation examples\n",
    "test_nospam = torchtext.legacy.data.Dataset(\n",
    "    [e for e in test.examples if e.label == 0],\n",
    "    test.fields)"
   ]
  },
  {
   "cell_type": "code",
   "execution_count": null,
   "metadata": {
    "id": "vG0EdpmWc03N"
   },
   "outputs": [],
   "source": [
    "test_spam_iter=torchtext.legacy.data.BucketIterator(test_spam,\n",
    "                                           batch_size=32,\n",
    "                                           sort_key=lambda x: len(x.sms), # to minimize padding\n",
    "                                           sort_within_batch=True,        # sort within each batch\n",
    "                                           repeat=False)                  # repeat the iterator for many epochs"
   ]
  },
  {
   "cell_type": "code",
   "execution_count": null,
   "metadata": {
    "colab": {
     "base_uri": "https://localhost:8080/"
    },
    "id": "x-BQbAOKc5Cp",
    "outputId": "5fae4f48-ae7e-4bd2-b214-92b1ac786e90"
   },
   "outputs": [
    {
     "name": "stdout",
     "output_type": "stream",
     "text": [
      "The false positive rate on the test set is: 0.04790419161676651\n"
     ]
    }
   ],
   "source": [
    "FPR_test=get_accuracy(model, test_spam_iter)\n",
    "print(\"The false positive rate on the test set is:\", 1-FPR_test)"
   ]
  },
  {
   "cell_type": "code",
   "execution_count": null,
   "metadata": {
    "id": "wbGKdTmHdAR-"
   },
   "outputs": [],
   "source": [
    "test_nospam_iter=torchtext.legacy.data.BucketIterator(test_nospam,\n",
    "                                           batch_size=32,\n",
    "                                           sort_key=lambda x: len(x.sms), # to minimize padding\n",
    "                                           sort_within_batch=True,        # sort within each batch\n",
    "                                           repeat=False)                  # repeat the iterator for many epochs"
   ]
  },
  {
   "cell_type": "code",
   "execution_count": null,
   "metadata": {
    "colab": {
     "base_uri": "https://localhost:8080/"
    },
    "id": "if2aLlIVdC0o",
    "outputId": "537629f2-322d-4148-d6cb-b8e2f4a9be3b"
   },
   "outputs": [
    {
     "name": "stdout",
     "output_type": "stream",
     "text": [
      "The false negative rate on the test set is: 0.032734952481520585\n"
     ]
    }
   ],
   "source": [
    "FNR_test=get_accuracy(model, test_nospam_iter)\n",
    "print(\"The false negative rate on the test set is:\", 1-FNR_test)"
   ]
  },
  {
   "cell_type": "markdown",
   "metadata": {
    "id": "0jGHtQFpa91b"
   },
   "source": [
    "Let us check what is the model's prediction of the **probability** that\n",
    "the SMS message \"machine learning is sooo cool!\" is spam?"
   ]
  },
  {
   "cell_type": "code",
   "execution_count": null,
   "metadata": {
    "colab": {
     "base_uri": "https://localhost:8080/"
    },
    "id": "h_2nSJq8a91b",
    "outputId": "e46bd59d-df3b-4db3-9e2f-7f4c1d3d48bc"
   },
   "outputs": [
    {
     "name": "stdout",
     "output_type": "stream",
     "text": [
      "The model's prediction of the probability that the message is spam is: 0.22250063478527038\n"
     ]
    }
   ],
   "source": [
    "import math\n",
    "msg = \"machine learning is sooo cool!\"\n",
    "\n",
    "msg_new=list(tuple(msg))\n",
    "msg_new2=[]\n",
    "for i in enumerate(msg_new):\n",
    "  msg_new2.append(text_field.vocab.stoi[i[1]])\n",
    "\n",
    "msg_new2=torch.tensor(msg_new2).unsqueeze(0)\n",
    "prob=model(msg_new2)\n",
    "# pred=prob.max(1,keepdim=True)[1]\n",
    "sigmoid1=1/(1+math.exp(-(prob[0][1].item())))\n",
    "print(\"The model's prediction of the probability that the message is spam is:\", sigmoid1)"
   ]
  },
  {
   "cell_type": "markdown",
   "metadata": {
    "id": "LOc1HjiTSahZ"
   },
   "source": [
    "Detecting spam is a difficult task because whenever new and more advanced algorithms are implemented to detect the spam messages, hackers are finding more tidious ways to send those spam messages, going unnoticed.\n",
    "\n",
    "However, there have been many attempts to do these detections, among which are recurrent neural networks. But simpler models exist out there to detect spam, which do not require computationally expensive training.\n",
    "\n",
    "There are several simple baseline models we could compare our recurrent neural network against, which could be methods of content based filtering, case base filtering, heuristic or rule based spam filtering, previous likeness based spam filtering, and adaptive spam filtering (https://www.sciencedirect.com/science/article/pii/S2405844018353404).\n",
    "\n",
    "The method that I think would be good to compare the RNN to is spam detection using support vector machines, which is a supervised learning method. Support vector machines are linear classifiers that aim to separate spam and non-spam emails by the optimal margin.\n",
    "\n",
    "The way we would build the simple baseline model is the following:\n",
    "\n",
    "1. Load the dataset containing the spam/ham emails (make sure the labels and emails are in separate dataframes).\n",
    "2. Split data into training, validation and testing.\n",
    "3. Convert the text to integers using CountVectorizer() from sklearn (similar to one hot encoding).\n",
    "4. Perform support vector classification using SVC from sklearn, which is basically finding the best margin that separates the different classes of spam/non-spam.\n",
    "\n",
    "Helper code: https://becominghuman.ai/spam-mail-detection-using-support-vector-machine-cdb57b0d62a8\n",
    "\n",
    "This method is still a frequently used way to detect spam and is being improved in some researches (https://link.springer.com/article/10.1007/s00521-017-3100-y).\n"
   ]
  },
  {
   "cell_type": "markdown",
   "metadata": {
    "id": "zIR3Q5l0v1HP"
   },
   "source": [
    "## Transfer Learning\n",
    "\n",
    "In this part, I will compare the earlier model with one that takes advantage of a generative RNN model to improve the prediction. There are several ways to implement transfer learning with RNNs, here I will use an approach known as ULMFiT developed by fastai. Rather than rebuilding the model from scratch, we will take advantage of the fastai library.\n",
    "\n",
    "#### Helper Code"
   ]
  },
  {
   "cell_type": "code",
   "execution_count": null,
   "metadata": {
    "colab": {
     "base_uri": "https://localhost:8080/"
    },
    "id": "5R-_BQyiAMoo",
    "outputId": "eca14b35-0950-4884-8b0c-95becc49959c"
   },
   "outputs": [
    {
     "name": "stdout",
     "output_type": "stream",
     "text": [
      "Requirement already satisfied: fastai in /usr/local/lib/python3.7/dist-packages (1.0.61)\n",
      "Requirement already satisfied: beautifulsoup4 in /usr/local/lib/python3.7/dist-packages (from fastai) (4.6.3)\n",
      "Requirement already satisfied: fastprogress>=0.2.1 in /usr/local/lib/python3.7/dist-packages (from fastai) (1.0.0)\n",
      "Requirement already satisfied: numpy>=1.15 in /usr/local/lib/python3.7/dist-packages (from fastai) (1.19.5)\n",
      "Requirement already satisfied: nvidia-ml-py3 in /usr/local/lib/python3.7/dist-packages (from fastai) (7.352.0)\n",
      "Requirement already satisfied: pandas in /usr/local/lib/python3.7/dist-packages (from fastai) (1.1.5)\n",
      "Requirement already satisfied: torch>=1.0.0 in /usr/local/lib/python3.7/dist-packages (from fastai) (1.10.0+cu111)\n",
      "Requirement already satisfied: Pillow in /usr/local/lib/python3.7/dist-packages (from fastai) (7.1.2)\n",
      "Requirement already satisfied: scipy in /usr/local/lib/python3.7/dist-packages (from fastai) (1.4.1)\n",
      "Requirement already satisfied: bottleneck in /usr/local/lib/python3.7/dist-packages (from fastai) (1.3.2)\n",
      "Requirement already satisfied: numexpr in /usr/local/lib/python3.7/dist-packages (from fastai) (2.7.3)\n",
      "Requirement already satisfied: spacy>=2.0.18 in /usr/local/lib/python3.7/dist-packages (from fastai) (2.2.4)\n",
      "Requirement already satisfied: matplotlib in /usr/local/lib/python3.7/dist-packages (from fastai) (3.2.2)\n",
      "Requirement already satisfied: pyyaml in /usr/local/lib/python3.7/dist-packages (from fastai) (3.13)\n",
      "Requirement already satisfied: torchvision in /usr/local/lib/python3.7/dist-packages (from fastai) (0.11.1+cu111)\n",
      "Requirement already satisfied: packaging in /usr/local/lib/python3.7/dist-packages (from fastai) (21.3)\n",
      "Requirement already satisfied: requests in /usr/local/lib/python3.7/dist-packages (from fastai) (2.23.0)\n",
      "Requirement already satisfied: cymem<2.1.0,>=2.0.2 in /usr/local/lib/python3.7/dist-packages (from spacy>=2.0.18->fastai) (2.0.6)\n",
      "Requirement already satisfied: plac<1.2.0,>=0.9.6 in /usr/local/lib/python3.7/dist-packages (from spacy>=2.0.18->fastai) (1.1.3)\n",
      "Requirement already satisfied: wasabi<1.1.0,>=0.4.0 in /usr/local/lib/python3.7/dist-packages (from spacy>=2.0.18->fastai) (0.8.2)\n",
      "Requirement already satisfied: tqdm<5.0.0,>=4.38.0 in /usr/local/lib/python3.7/dist-packages (from spacy>=2.0.18->fastai) (4.62.3)\n",
      "Requirement already satisfied: setuptools in /usr/local/lib/python3.7/dist-packages (from spacy>=2.0.18->fastai) (57.4.0)\n",
      "Requirement already satisfied: preshed<3.1.0,>=3.0.2 in /usr/local/lib/python3.7/dist-packages (from spacy>=2.0.18->fastai) (3.0.6)\n",
      "Requirement already satisfied: thinc==7.4.0 in /usr/local/lib/python3.7/dist-packages (from spacy>=2.0.18->fastai) (7.4.0)\n",
      "Requirement already satisfied: catalogue<1.1.0,>=0.0.7 in /usr/local/lib/python3.7/dist-packages (from spacy>=2.0.18->fastai) (1.0.0)\n",
      "Requirement already satisfied: murmurhash<1.1.0,>=0.28.0 in /usr/local/lib/python3.7/dist-packages (from spacy>=2.0.18->fastai) (1.0.6)\n",
      "Requirement already satisfied: blis<0.5.0,>=0.4.0 in /usr/local/lib/python3.7/dist-packages (from spacy>=2.0.18->fastai) (0.4.1)\n",
      "Requirement already satisfied: srsly<1.1.0,>=1.0.2 in /usr/local/lib/python3.7/dist-packages (from spacy>=2.0.18->fastai) (1.0.5)\n",
      "Requirement already satisfied: importlib-metadata>=0.20 in /usr/local/lib/python3.7/dist-packages (from catalogue<1.1.0,>=0.0.7->spacy>=2.0.18->fastai) (4.8.2)\n",
      "Requirement already satisfied: zipp>=0.5 in /usr/local/lib/python3.7/dist-packages (from importlib-metadata>=0.20->catalogue<1.1.0,>=0.0.7->spacy>=2.0.18->fastai) (3.6.0)\n",
      "Requirement already satisfied: typing-extensions>=3.6.4 in /usr/local/lib/python3.7/dist-packages (from importlib-metadata>=0.20->catalogue<1.1.0,>=0.0.7->spacy>=2.0.18->fastai) (3.10.0.2)\n",
      "Requirement already satisfied: urllib3!=1.25.0,!=1.25.1,<1.26,>=1.21.1 in /usr/local/lib/python3.7/dist-packages (from requests->fastai) (1.24.3)\n",
      "Requirement already satisfied: chardet<4,>=3.0.2 in /usr/local/lib/python3.7/dist-packages (from requests->fastai) (3.0.4)\n",
      "Requirement already satisfied: certifi>=2017.4.17 in /usr/local/lib/python3.7/dist-packages (from requests->fastai) (2021.10.8)\n",
      "Requirement already satisfied: idna<3,>=2.5 in /usr/local/lib/python3.7/dist-packages (from requests->fastai) (2.10)\n",
      "Requirement already satisfied: kiwisolver>=1.0.1 in /usr/local/lib/python3.7/dist-packages (from matplotlib->fastai) (1.3.2)\n",
      "Requirement already satisfied: python-dateutil>=2.1 in /usr/local/lib/python3.7/dist-packages (from matplotlib->fastai) (2.8.2)\n",
      "Requirement already satisfied: cycler>=0.10 in /usr/local/lib/python3.7/dist-packages (from matplotlib->fastai) (0.11.0)\n",
      "Requirement already satisfied: pyparsing!=2.0.4,!=2.1.2,!=2.1.6,>=2.0.1 in /usr/local/lib/python3.7/dist-packages (from matplotlib->fastai) (3.0.6)\n",
      "Requirement already satisfied: six>=1.5 in /usr/local/lib/python3.7/dist-packages (from python-dateutil>=2.1->matplotlib->fastai) (1.15.0)\n",
      "Requirement already satisfied: pytz>=2017.2 in /usr/local/lib/python3.7/dist-packages (from pandas->fastai) (2018.9)\n"
     ]
    }
   ],
   "source": [
    "# install relevant libraries\n",
    "!pip install fastai"
   ]
  },
  {
   "cell_type": "code",
   "execution_count": null,
   "metadata": {
    "id": "316Xs5WBv0kg"
   },
   "outputs": [],
   "source": [
    "# load relevant libraries\n",
    "from fastai import * \n",
    "import pandas as pd\n",
    "import numpy as np\n",
    "from functools import partial\n",
    "import io\n",
    "import os\n",
    "from fastai.text import *"
   ]
  },
  {
   "cell_type": "code",
   "execution_count": null,
   "metadata": {
    "colab": {
     "base_uri": "https://localhost:8080/"
    },
    "id": "MfoKX8tKAU4Q",
    "outputId": "0a73bfcf-6380-4630-9512-3306c26cf87a"
   },
   "outputs": [
    {
     "name": "stdout",
     "output_type": "stream",
     "text": [
      "--2021-11-23 02:53:28--  https://archive.ics.uci.edu/ml/machine-learning-databases/00228/smsspamcollection.zip\n",
      "Resolving archive.ics.uci.edu (archive.ics.uci.edu)... 128.195.10.252\n",
      "Connecting to archive.ics.uci.edu (archive.ics.uci.edu)|128.195.10.252|:443... connected.\n",
      "HTTP request sent, awaiting response... 200 OK\n",
      "Length: 203415 (199K) [application/x-httpd-php]\n",
      "Saving to: ‘smsspamcollection.zip’\n",
      "\n",
      "smsspamcollection.z 100%[===================>] 198.65K  --.-KB/s    in 0.1s    \n",
      "\n",
      "2021-11-23 02:53:29 (1.75 MB/s) - ‘smsspamcollection.zip’ saved [203415/203415]\n",
      "\n",
      "Archive:  smsspamcollection.zip\n",
      "replace SMSSpamCollection? [y]es, [n]o, [A]ll, [N]one, [r]ename: y\n",
      "  inflating: SMSSpamCollection       \n",
      "  inflating: readme                  \n"
     ]
    }
   ],
   "source": [
    "# download SPAM data\n",
    "!wget https://archive.ics.uci.edu/ml/machine-learning-databases/00228/smsspamcollection.zip\n",
    "!unzip smsspamcollection.zip"
   ]
  },
  {
   "cell_type": "markdown",
   "metadata": {
    "id": "J4vSv4Z9QxTJ"
   },
   "source": [
    "This time we will load the data using pandas."
   ]
  },
  {
   "cell_type": "code",
   "execution_count": null,
   "metadata": {
    "colab": {
     "base_uri": "https://localhost:8080/",
     "height": 204
    },
    "id": "RKPhLwlhAbv-",
    "outputId": "7b93f20f-17f1-44cb-da5d-6669f8f762d8"
   },
   "outputs": [
    {
     "data": {
      "text/html": [
       "<div>\n",
       "<style scoped>\n",
       "    .dataframe tbody tr th:only-of-type {\n",
       "        vertical-align: middle;\n",
       "    }\n",
       "\n",
       "    .dataframe tbody tr th {\n",
       "        vertical-align: top;\n",
       "    }\n",
       "\n",
       "    .dataframe thead th {\n",
       "        text-align: right;\n",
       "    }\n",
       "</style>\n",
       "<table border=\"1\" class=\"dataframe\">\n",
       "  <thead>\n",
       "    <tr style=\"text-align: right;\">\n",
       "      <th></th>\n",
       "      <th>target</th>\n",
       "      <th>text</th>\n",
       "    </tr>\n",
       "  </thead>\n",
       "  <tbody>\n",
       "    <tr>\n",
       "      <th>0</th>\n",
       "      <td>ham</td>\n",
       "      <td>Go until jurong point, crazy.. Available only ...</td>\n",
       "    </tr>\n",
       "    <tr>\n",
       "      <th>1</th>\n",
       "      <td>ham</td>\n",
       "      <td>Ok lar... Joking wif u oni...</td>\n",
       "    </tr>\n",
       "    <tr>\n",
       "      <th>2</th>\n",
       "      <td>spam</td>\n",
       "      <td>Free entry in 2 a wkly comp to win FA Cup fina...</td>\n",
       "    </tr>\n",
       "    <tr>\n",
       "      <th>3</th>\n",
       "      <td>ham</td>\n",
       "      <td>U dun say so early hor... U c already then say...</td>\n",
       "    </tr>\n",
       "    <tr>\n",
       "      <th>4</th>\n",
       "      <td>ham</td>\n",
       "      <td>Nah I don't think he goes to usf, he lives aro...</td>\n",
       "    </tr>\n",
       "  </tbody>\n",
       "</table>\n",
       "</div>"
      ],
      "text/plain": [
       "  target                                               text\n",
       "0    ham  Go until jurong point, crazy.. Available only ...\n",
       "1    ham                      Ok lar... Joking wif u oni...\n",
       "2   spam  Free entry in 2 a wkly comp to win FA Cup fina...\n",
       "3    ham  U dun say so early hor... U c already then say...\n",
       "4    ham  Nah I don't think he goes to usf, he lives aro..."
      ]
     },
     "execution_count": 31,
     "metadata": {},
     "output_type": "execute_result"
    }
   ],
   "source": [
    "# set up data and verify\n",
    "df1 = pd.read_csv('SMSSpamCollection', sep='\\t',  header=None, names=['target', 'text'])\n",
    "df1.head()"
   ]
  },
  {
   "cell_type": "code",
   "execution_count": null,
   "metadata": {
    "colab": {
     "base_uri": "https://localhost:8080/"
    },
    "id": "rorC2T1yAfWY",
    "outputId": "9f3db110-a5fa-431d-d500-6f85c6f2c655"
   },
   "outputs": [
    {
     "data": {
      "text/plain": [
       "ham     4825\n",
       "spam     747\n",
       "Name: target, dtype: int64"
      ]
     },
     "execution_count": 32,
     "metadata": {},
     "output_type": "execute_result"
    }
   ],
   "source": [
    "# check distribution\n",
    "df1['target'].value_counts()"
   ]
  },
  {
   "cell_type": "markdown",
   "metadata": {
    "id": "snNazefHQ3yo"
   },
   "source": [
    "Split the data into training and validation datasets."
   ]
  },
  {
   "cell_type": "code",
   "execution_count": null,
   "metadata": {
    "id": "i4WuVTDhArhc"
   },
   "outputs": [],
   "source": [
    "# # split the data and check dimensions\n",
    "\n",
    "# from sklearn.model_selection import train_test_split\n",
    "\n",
    "# # split data into training and validation set\n",
    "# df_trn, df_val = train_test_split(df1, stratify = df1['target'], test_size = 0.3, random_state = 999)"
   ]
  },
  {
   "cell_type": "code",
   "execution_count": null,
   "metadata": {
    "colab": {
     "base_uri": "https://localhost:8080/"
    },
    "id": "uyCkDbTRAyxk",
    "outputId": "bd04b0d2-4096-4ebc-8d39-b8672a029ad9"
   },
   "outputs": [
    {
     "data": {
      "text/plain": [
       "((3900, 2), (1672, 2))"
      ]
     },
     "execution_count": 79,
     "metadata": {},
     "output_type": "execute_result"
    }
   ],
   "source": [
    "# df_trn.shape, df_val.shape"
   ]
  },
  {
   "cell_type": "code",
   "execution_count": null,
   "metadata": {
    "id": "JPqZdkjEl0JR"
   },
   "outputs": [],
   "source": [
    "def convert_to_pd(data):\n",
    "  arr_targets=np.zeros(len(data))\n",
    "  arr_texts=np.empty([len(data)],dtype=\"<U100\")\n",
    "\n",
    "  for i in range(0,len(data)):\n",
    "    arr_targets[i]=vars(data[i]).get('label')\n",
    "    arr_texts[i]=vars(data[i]).get('sms')\n",
    "    df=pd.DataFrame({'target': arr_targets, 'text': arr_texts})\n",
    "  return df\n",
    "\n",
    "df_train=convert_to_pd(train)\n",
    "df_val=convert_to_pd(valid)\n",
    "df_test=convert_to_pd(test)"
   ]
  },
  {
   "cell_type": "code",
   "execution_count": null,
   "metadata": {
    "id": "CcX2MUaXmGzb"
   },
   "outputs": [],
   "source": [
    "def change_classes(df):\n",
    "  df.loc[(df['target']==0.0),'target']=\"ham\"\n",
    "  df.loc[(df['target']==1.0),'target']=\"spam\"\n",
    "  return df\n",
    "\n",
    "df_train=change_classes(df_train)\n",
    "df_val=change_classes(df_val)\n",
    "df_test=change_classes(df_test)"
   ]
  },
  {
   "cell_type": "markdown",
   "metadata": {
    "id": "kuGx5mebBfEm"
   },
   "source": [
    "### Create the language model\n",
    "Esentially, the language model contains the structure of the language (English in this case), allowing us to quickly use in a classification model, skipping the part of learning the semantics of the language from scratch.\n",
    "\n",
    "Creating a language model from scratch can be intensive due to the sheer size of data. Instead we will download the pre-trained model, which is a neural network (NN) with an AWD_LSTM architecture. By setting pretrained = True we say to fastai to download the weights from the trained model (a corpus of 103 MM of wikipedia articles)."
   ]
  },
  {
   "cell_type": "code",
   "execution_count": null,
   "metadata": {
    "colab": {
     "base_uri": "https://localhost:8080/",
     "height": 88
    },
    "id": "S6yWJklsBdPp",
    "outputId": "49885b96-2e74-4713-9558-fe90a240dddf"
   },
   "outputs": [
    {
     "data": {
      "text/html": [],
      "text/plain": [
       "<IPython.core.display.HTML object>"
      ]
     },
     "metadata": {},
     "output_type": "display_data"
    },
    {
     "name": "stderr",
     "output_type": "stream",
     "text": [
      "/usr/local/lib/python3.7/dist-packages/fastai/core.py:302: VisibleDeprecationWarning: Creating an ndarray from ragged nested sequences (which is a list-or-tuple of lists-or-tuples-or ndarrays with different lengths or shapes) is deprecated. If you meant to do this, you must specify 'dtype=object' when creating the ndarray\n",
      "  return np.array(a, dtype=dtype, **kwargs)\n"
     ]
    },
    {
     "data": {
      "text/html": [],
      "text/plain": [
       "<IPython.core.display.HTML object>"
      ]
     },
     "metadata": {},
     "output_type": "display_data"
    },
    {
     "name": "stdout",
     "output_type": "stream",
     "text": [
      "Downloading https://s3.amazonaws.com/fast-ai-modelzoo/wt103-fwd.tgz\n"
     ]
    },
    {
     "data": {
      "text/html": [],
      "text/plain": [
       "<IPython.core.display.HTML object>"
      ]
     },
     "metadata": {},
     "output_type": "display_data"
    }
   ],
   "source": [
    "# create pretrained language model data\n",
    "data_lm = TextLMDataBunch.from_df(train_df = df_train, valid_df = df_val, path = \"\")\n",
    "lang_mod = language_model_learner(data_lm,  arch = AWD_LSTM, pretrained = True, drop_mult=1.)"
   ]
  },
  {
   "cell_type": "markdown",
   "metadata": {
    "id": "lT_aVqCRB8DJ"
   },
   "source": [
    "### Testing the language model\n"
   ]
  },
  {
   "cell_type": "code",
   "execution_count": null,
   "metadata": {
    "colab": {
     "base_uri": "https://localhost:8080/"
    },
    "id": "PlZgAMGbCZXY",
    "outputId": "eb214f9b-7f9f-479a-b2c8-419da348b3f6"
   },
   "outputs": [
    {
     "name": "stdout",
     "output_type": "stream",
     "text": [
      "The problem usually starts when moving is the time of a year , however it\n",
      "The problem usually starts when sleeping on a black pie , however , the idea\n",
      "The problem usually starts when in space , however it can be quite painful on\n",
      "The problem usually starts when it is made possible to take a real moment ,\n",
      "The problem usually starts when it can be used to plan new sex again .\n"
     ]
    }
   ],
   "source": [
    "for i in range(5):\n",
    "  print(lang_mod.predict(\"The problem usually starts when\", n_words=10))"
   ]
  },
  {
   "cell_type": "markdown",
   "metadata": {
    "id": "8-9pK9cTCmFP"
   },
   "source": [
    "Each time we excecute the `predict`, we get a different random sentence, completed with the number of choosen words (`n_words`).\n",
    "\n",
    "Try your own sentences!"
   ]
  },
  {
   "cell_type": "markdown",
   "metadata": {
    "id": "Q8-HUwNYCqSO"
   },
   "source": [
    "### Fine-tuning the language model\n",
    "The language model that we have \"loaded\" is great for generating wikipedia-like sentances, but here we're more interested in generating data like our email dataset. \n",
    "\n",
    "Make sure to enable GPU for this step or it make takes several hours to train."
   ]
  },
  {
   "cell_type": "code",
   "execution_count": null,
   "metadata": {
    "colab": {
     "base_uri": "https://localhost:8080/",
     "height": 548
    },
    "id": "2Z6lG13vRnbo",
    "outputId": "b5ecf0c2-4f2f-45f4-e321-50fdd0af8666"
   },
   "outputs": [
    {
     "data": {
      "text/html": [
       "<table border=\"1\" class=\"dataframe\">\n",
       "  <thead>\n",
       "    <tr style=\"text-align: left;\">\n",
       "      <th>epoch</th>\n",
       "      <th>train_loss</th>\n",
       "      <th>valid_loss</th>\n",
       "      <th>accuracy</th>\n",
       "      <th>time</th>\n",
       "    </tr>\n",
       "  </thead>\n",
       "  <tbody>\n",
       "    <tr>\n",
       "      <td>0</td>\n",
       "      <td>5.131147</td>\n",
       "      <td>4.374558</td>\n",
       "      <td>0.242857</td>\n",
       "      <td>00:02</td>\n",
       "    </tr>\n",
       "    <tr>\n",
       "      <td>1</td>\n",
       "      <td>3.902808</td>\n",
       "      <td>4.341823</td>\n",
       "      <td>0.228571</td>\n",
       "      <td>00:02</td>\n",
       "    </tr>\n",
       "    <tr>\n",
       "      <td>2</td>\n",
       "      <td>3.219813</td>\n",
       "      <td>4.544222</td>\n",
       "      <td>0.228571</td>\n",
       "      <td>00:02</td>\n",
       "    </tr>\n",
       "    <tr>\n",
       "      <td>3</td>\n",
       "      <td>2.817692</td>\n",
       "      <td>4.546724</td>\n",
       "      <td>0.214286</td>\n",
       "      <td>00:02</td>\n",
       "    </tr>\n",
       "  </tbody>\n",
       "</table>"
      ],
      "text/plain": [
       "<IPython.core.display.HTML object>"
      ]
     },
     "metadata": {},
     "output_type": "display_data"
    },
    {
     "data": {
      "text/html": [
       "<table border=\"1\" class=\"dataframe\">\n",
       "  <thead>\n",
       "    <tr style=\"text-align: left;\">\n",
       "      <th>epoch</th>\n",
       "      <th>train_loss</th>\n",
       "      <th>valid_loss</th>\n",
       "      <th>accuracy</th>\n",
       "      <th>time</th>\n",
       "    </tr>\n",
       "  </thead>\n",
       "  <tbody>\n",
       "    <tr>\n",
       "      <td>0</td>\n",
       "      <td>2.386116</td>\n",
       "      <td>4.586669</td>\n",
       "      <td>0.200000</td>\n",
       "      <td>00:02</td>\n",
       "    </tr>\n",
       "    <tr>\n",
       "      <td>1</td>\n",
       "      <td>2.335784</td>\n",
       "      <td>4.472074</td>\n",
       "      <td>0.200000</td>\n",
       "      <td>00:02</td>\n",
       "    </tr>\n",
       "    <tr>\n",
       "      <td>2</td>\n",
       "      <td>2.295069</td>\n",
       "      <td>4.475451</td>\n",
       "      <td>0.200000</td>\n",
       "      <td>00:02</td>\n",
       "    </tr>\n",
       "  </tbody>\n",
       "</table>"
      ],
      "text/plain": [
       "<IPython.core.display.HTML object>"
      ]
     },
     "metadata": {},
     "output_type": "display_data"
    },
    {
     "data": {
      "text/html": [
       "<table border=\"1\" class=\"dataframe\">\n",
       "  <thead>\n",
       "    <tr style=\"text-align: left;\">\n",
       "      <th>epoch</th>\n",
       "      <th>train_loss</th>\n",
       "      <th>valid_loss</th>\n",
       "      <th>accuracy</th>\n",
       "      <th>time</th>\n",
       "    </tr>\n",
       "  </thead>\n",
       "  <tbody>\n",
       "    <tr>\n",
       "      <td>0</td>\n",
       "      <td>2.204671</td>\n",
       "      <td>4.468325</td>\n",
       "      <td>0.200000</td>\n",
       "      <td>00:02</td>\n",
       "    </tr>\n",
       "    <tr>\n",
       "      <td>1</td>\n",
       "      <td>2.156487</td>\n",
       "      <td>4.456062</td>\n",
       "      <td>0.214286</td>\n",
       "      <td>00:02</td>\n",
       "    </tr>\n",
       "    <tr>\n",
       "      <td>2</td>\n",
       "      <td>2.119183</td>\n",
       "      <td>4.456776</td>\n",
       "      <td>0.214286</td>\n",
       "      <td>00:02</td>\n",
       "    </tr>\n",
       "  </tbody>\n",
       "</table>"
      ],
      "text/plain": [
       "<IPython.core.display.HTML object>"
      ]
     },
     "metadata": {},
     "output_type": "display_data"
    },
    {
     "data": {
      "text/html": [
       "<table border=\"1\" class=\"dataframe\">\n",
       "  <thead>\n",
       "    <tr style=\"text-align: left;\">\n",
       "      <th>epoch</th>\n",
       "      <th>train_loss</th>\n",
       "      <th>valid_loss</th>\n",
       "      <th>accuracy</th>\n",
       "      <th>time</th>\n",
       "    </tr>\n",
       "  </thead>\n",
       "  <tbody>\n",
       "    <tr>\n",
       "      <td>0</td>\n",
       "      <td>2.057080</td>\n",
       "      <td>4.433301</td>\n",
       "      <td>0.214286</td>\n",
       "      <td>00:03</td>\n",
       "    </tr>\n",
       "    <tr>\n",
       "      <td>1</td>\n",
       "      <td>2.020641</td>\n",
       "      <td>4.415503</td>\n",
       "      <td>0.214286</td>\n",
       "      <td>00:03</td>\n",
       "    </tr>\n",
       "    <tr>\n",
       "      <td>2</td>\n",
       "      <td>1.994403</td>\n",
       "      <td>4.410829</td>\n",
       "      <td>0.214286</td>\n",
       "      <td>00:03</td>\n",
       "    </tr>\n",
       "  </tbody>\n",
       "</table>"
      ],
      "text/plain": [
       "<IPython.core.display.HTML object>"
      ]
     },
     "metadata": {},
     "output_type": "display_data"
    }
   ],
   "source": [
    "# fine-tune language model data\n",
    "lang_mod.fit_one_cycle(4, max_lr= 5e-02)\n",
    "lang_mod.freeze_to(-1)\n",
    "lang_mod.fit_one_cycle(3, slice(1e-2/(2.6**4), 1e-2))\n",
    "lang_mod.freeze_to(-2)\n",
    "lang_mod.fit_one_cycle(3, slice(3e-3/(2.6**4), 1e-3))\n",
    "lang_mod.unfreeze()\n",
    "lang_mod.fit_one_cycle(3, slice(3e-3/(2.6**4), 1e-3))\n",
    "\n",
    "# save language model\n",
    "lang_mod.save_encoder('my_awsome_encoder')"
   ]
  },
  {
   "cell_type": "markdown",
   "metadata": {
    "id": "KT-Y6pB1SrGg"
   },
   "source": [
    "### Classification model\n",
    "Now we can train a classification model that will identify spam and non-spam messages. Since we used a fastai language model, it will be easier to just continue working with the fastai library."
   ]
  },
  {
   "cell_type": "code",
   "execution_count": null,
   "metadata": {
    "colab": {
     "base_uri": "https://localhost:8080/",
     "height": 122
    },
    "id": "MIvfaeOfTDZV",
    "outputId": "0091df59-69e5-496d-84ee-071c81d09629"
   },
   "outputs": [
    {
     "data": {
      "text/html": [],
      "text/plain": [
       "<IPython.core.display.HTML object>"
      ]
     },
     "metadata": {},
     "output_type": "display_data"
    },
    {
     "name": "stderr",
     "output_type": "stream",
     "text": [
      "/usr/local/lib/python3.7/dist-packages/fastai/core.py:302: VisibleDeprecationWarning: Creating an ndarray from ragged nested sequences (which is a list-or-tuple of lists-or-tuples-or ndarrays with different lengths or shapes) is deprecated. If you meant to do this, you must specify 'dtype=object' when creating the ndarray\n",
      "  return np.array(a, dtype=dtype, **kwargs)\n"
     ]
    },
    {
     "data": {
      "text/html": [],
      "text/plain": [
       "<IPython.core.display.HTML object>"
      ]
     },
     "metadata": {},
     "output_type": "display_data"
    },
    {
     "name": "stderr",
     "output_type": "stream",
     "text": [
      "/usr/local/lib/python3.7/dist-packages/numpy/core/_asarray.py:83: VisibleDeprecationWarning: Creating an ndarray from ragged nested sequences (which is a list-or-tuple of lists-or-tuples-or ndarrays with different lengths or shapes) is deprecated. If you meant to do this, you must specify 'dtype=object' when creating the ndarray\n",
      "  return array(a, dtype, copy=False, order=order)\n",
      "<string>:6: VisibleDeprecationWarning: Creating an ndarray from ragged nested sequences (which is a list-or-tuple of lists-or-tuples-or ndarrays with different lengths or shapes) is deprecated. If you meant to do this, you must specify 'dtype=object' when creating the ndarray\n"
     ]
    }
   ],
   "source": [
    "# Classifier model data\n",
    "data_clas = TextClasDataBunch.from_df(path = \"\", train_df = df_train,  valid_df = df_val, vocab=data_lm.train_ds.vocab, bs=32)"
   ]
  },
  {
   "cell_type": "code",
   "execution_count": null,
   "metadata": {
    "colab": {
     "base_uri": "https://localhost:8080/",
     "height": 360
    },
    "id": "Kc2fiXTCTjHh",
    "outputId": "0cc3d03c-21bc-47a0-f85b-3a72d61453ab"
   },
   "outputs": [
    {
     "name": "stderr",
     "output_type": "stream",
     "text": [
      "/usr/local/lib/python3.7/dist-packages/numpy/core/_asarray.py:83: VisibleDeprecationWarning: Creating an ndarray from ragged nested sequences (which is a list-or-tuple of lists-or-tuples-or ndarrays with different lengths or shapes) is deprecated. If you meant to do this, you must specify 'dtype=object' when creating the ndarray\n",
      "  return array(a, dtype, copy=False, order=order)\n",
      "<string>:6: VisibleDeprecationWarning: Creating an ndarray from ragged nested sequences (which is a list-or-tuple of lists-or-tuples-or ndarrays with different lengths or shapes) is deprecated. If you meant to do this, you must specify 'dtype=object' when creating the ndarray\n"
     ]
    },
    {
     "data": {
      "text/html": [
       "<table border=\"1\" class=\"dataframe\">\n",
       "  <thead>\n",
       "    <tr style=\"text-align: right;\">\n",
       "      <th>text</th>\n",
       "      <th>target</th>\n",
       "    </tr>\n",
       "  </thead>\n",
       "  <tbody>\n",
       "    <tr>\n",
       "      <td>xxbos xxup hey xxup babe ! xxup far 2 xxup xxunk - xxup out 2 xxup spk xxup at xxup da xxup mo ... xxup dead 2 xxup da xxup xxunk . xxup been xxup sleeping xxup on xxup da xxup sofa xxup all xxup day , xxup had a c</td>\n",
       "      <td>ham</td>\n",
       "    </tr>\n",
       "    <tr>\n",
       "      <td>xxbos xxup so xxup is xxup th xxup xxunk xxup mate xxup which xxup is xxup where i xxup am ! ? ! xxup how r u xxup man ? xxup all xxup is xxup good xxup in xxup xxunk xxup ill b xxup back xxup xxunk . c u</td>\n",
       "      <td>ham</td>\n",
       "    </tr>\n",
       "    <tr>\n",
       "      <td>xxbos xxup hiya xxup xxunk xxup wot u xxup up xxup xxunk xxup in xxup so xxup much xxup xxunk xxup at xxup home xxup at xxup moment xxup xxunk xxup xxunk xxup me xxup even u ! xxup wot xxup the xxup hell xxup xxunk i</td>\n",
       "      <td>ham</td>\n",
       "    </tr>\n",
       "    <tr>\n",
       "      <td>xxbos xxup hi xxup babe u r xxup most xxup xxunk xxup to xxup be xxup in xxup bed xxup but xxup im xxup so xxup sorry xxup about xxup tonight ! i xxup really xxup wanna xxup see u xxup tomorrow xxup so</td>\n",
       "      <td>ham</td>\n",
       "    </tr>\n",
       "    <tr>\n",
       "      <td>xxbos xxup urgent , xxup important xxup information xxup for xxup o2 xxup user . xxup today xxup is xxup your xxup lucky xxup day ! 2 xxup find xxup out xxup why xxup log xxup onto xxup http : / / w</td>\n",
       "      <td>spam</td>\n",
       "    </tr>\n",
       "  </tbody>\n",
       "</table>"
      ],
      "text/plain": [
       "<IPython.core.display.HTML object>"
      ]
     },
     "metadata": {},
     "output_type": "display_data"
    }
   ],
   "source": [
    "data_clas.show_batch()"
   ]
  },
  {
   "cell_type": "code",
   "execution_count": null,
   "metadata": {
    "id": "6sjwotSITjHi"
   },
   "outputs": [],
   "source": [
    "# create the classifier\n",
    "learn_classifier = text_classifier_learner(data_clas, drop_mult=0.7, arch = AWD_LSTM)"
   ]
  },
  {
   "cell_type": "code",
   "execution_count": null,
   "metadata": {
    "colab": {
     "base_uri": "https://localhost:8080/"
    },
    "id": "sfzqId9jTjHi",
    "outputId": "e8139dde-a8a8-455b-b865-314735e245dc"
   },
   "outputs": [
    {
     "data": {
      "text/plain": [
       "RNNLearner(data=TextClasDataBunch;\n",
       "\n",
       "Train: LabelList (5953 items)\n",
       "x: TextList\n",
       "xxbos xxmaj whenevr ur sad , xxmaj whenevr ur xxunk , xxmaj remembr i m here 2 xxunk 2 xxunk u wanna say , xxmaj jus walk wid me a lit,xxbos xxmaj how i noe ... xxmaj did ü xxunk da xxunk as xxunk ... ü still in sch ...,xxbos xxmaj aight , i 'll ask a few of my xxunk,xxbos xxmaj thanks for loving me so . xxmaj you rock,xxbos xxmaj ca n't . i feel xxunk . i 'm so pissed . i did n't eat any sweets all week cause today i was planning t\n",
       "y: CategoryList\n",
       "ham,ham,ham,ham,ham\n",
       "Path: .;\n",
       "\n",
       "Valid: LabelList (1115 items)\n",
       "x: TextList\n",
       "xxbos xxmaj want to finally have lunch today ?,xxbos xxmaj ur xxup xxunk subscription has been xxunk and you have been charged £ 4.50 . xxmaj you can choose 10 more poly,xxbos xxmaj ever green quote ever told by xxmaj xxunk in xxunk \" a xxmaj person xxmaj who xxmaj xxunk u xxmaj always xxmaj is the one xxmaj who xxmaj loves,xxbos xxmaj are you coming to day for class .,xxbos xxmaj yo my trip got xxunk , you still xxunk up ?\n",
       "y: CategoryList\n",
       "ham,spam,ham,ham,ham\n",
       "Path: .;\n",
       "\n",
       "Test: None, model=SequentialRNN(\n",
       "  (0): MultiBatchEncoder(\n",
       "    (module): AWD_LSTM(\n",
       "      (encoder): Embedding(3328, 400, padding_idx=1)\n",
       "      (encoder_dp): EmbeddingDropout(\n",
       "        (emb): Embedding(3328, 400, padding_idx=1)\n",
       "      )\n",
       "      (rnns): ModuleList(\n",
       "        (0): WeightDropout(\n",
       "          (module): LSTM(400, 1152, batch_first=True)\n",
       "        )\n",
       "        (1): WeightDropout(\n",
       "          (module): LSTM(1152, 1152, batch_first=True)\n",
       "        )\n",
       "        (2): WeightDropout(\n",
       "          (module): LSTM(1152, 400, batch_first=True)\n",
       "        )\n",
       "      )\n",
       "      (input_dp): RNNDropout()\n",
       "      (hidden_dps): ModuleList(\n",
       "        (0): RNNDropout()\n",
       "        (1): RNNDropout()\n",
       "        (2): RNNDropout()\n",
       "      )\n",
       "    )\n",
       "  )\n",
       "  (1): PoolingLinearClassifier(\n",
       "    (layers): Sequential(\n",
       "      (0): BatchNorm1d(1200, eps=1e-05, momentum=0.1, affine=True, track_running_stats=True)\n",
       "      (1): Dropout(p=0.27999999999999997, inplace=False)\n",
       "      (2): Linear(in_features=1200, out_features=50, bias=True)\n",
       "      (3): ReLU(inplace=True)\n",
       "      (4): BatchNorm1d(50, eps=1e-05, momentum=0.1, affine=True, track_running_stats=True)\n",
       "      (5): Dropout(p=0.1, inplace=False)\n",
       "      (6): Linear(in_features=50, out_features=2, bias=True)\n",
       "    )\n",
       "  )\n",
       "), opt_func=functools.partial(<class 'torch.optim.adam.Adam'>, betas=(0.9, 0.99)), loss_func=FlattenedLoss of CrossEntropyLoss(), metrics=[<function accuracy at 0x7fa3afd39680>], true_wd=True, bn_wd=True, wd=0.01, train_bn=True, path=PosixPath('.'), model_dir='models', callback_fns=[functools.partial(<class 'fastai.basic_train.Recorder'>, add_time=True, silent=False)], callbacks=[RNNTrainer\n",
       "learn: ...\n",
       "alpha: 2.0\n",
       "beta: 1.0], layer_groups=[Sequential(\n",
       "  (0): Embedding(3328, 400, padding_idx=1)\n",
       "  (1): EmbeddingDropout(\n",
       "    (emb): Embedding(3328, 400, padding_idx=1)\n",
       "  )\n",
       "), Sequential(\n",
       "  (0): WeightDropout(\n",
       "    (module): LSTM(400, 1152, batch_first=True)\n",
       "  )\n",
       "  (1): RNNDropout()\n",
       "), Sequential(\n",
       "  (0): WeightDropout(\n",
       "    (module): LSTM(1152, 1152, batch_first=True)\n",
       "  )\n",
       "  (1): RNNDropout()\n",
       "), Sequential(\n",
       "  (0): WeightDropout(\n",
       "    (module): LSTM(1152, 400, batch_first=True)\n",
       "  )\n",
       "  (1): RNNDropout()\n",
       "), Sequential(\n",
       "  (0): PoolingLinearClassifier(\n",
       "    (layers): Sequential(\n",
       "      (0): BatchNorm1d(1200, eps=1e-05, momentum=0.1, affine=True, track_running_stats=True)\n",
       "      (1): Dropout(p=0.27999999999999997, inplace=False)\n",
       "      (2): Linear(in_features=1200, out_features=50, bias=True)\n",
       "      (3): ReLU(inplace=True)\n",
       "      (4): BatchNorm1d(50, eps=1e-05, momentum=0.1, affine=True, track_running_stats=True)\n",
       "      (5): Dropout(p=0.1, inplace=False)\n",
       "      (6): Linear(in_features=50, out_features=2, bias=True)\n",
       "    )\n",
       "  )\n",
       ")], add_time=True, silent=False)"
      ]
     },
     "execution_count": 41,
     "metadata": {},
     "output_type": "execute_result"
    }
   ],
   "source": [
    "# load language model\n",
    "learn_classifier.load_encoder('my_awsome_encoder')"
   ]
  },
  {
   "cell_type": "code",
   "execution_count": null,
   "metadata": {
    "colab": {
     "base_uri": "https://localhost:8080/",
     "height": 479
    },
    "id": "yQzxgvqSTjHi",
    "outputId": "63ba94a8-5e5c-49b5-af3e-0090f88bf9f0"
   },
   "outputs": [
    {
     "data": {
      "text/html": [
       "\n",
       "    <div>\n",
       "        <style>\n",
       "            /* Turns off some styling */\n",
       "            progress {\n",
       "                /* gets rid of default border in Firefox and Opera. */\n",
       "                border: none;\n",
       "                /* Needs to be in here for Safari polyfill so background images work as expected. */\n",
       "                background-size: auto;\n",
       "            }\n",
       "            .progress-bar-interrupted, .progress-bar-interrupted::-webkit-progress-bar {\n",
       "                background: #F44336;\n",
       "            }\n",
       "        </style>\n",
       "      <progress value='0' class='' max='1' style='width:300px; height:20px; vertical-align: middle;'></progress>\n",
       "      0.00% [0/1 00:00<00:00]\n",
       "    </div>\n",
       "    \n",
       "<table border=\"1\" class=\"dataframe\">\n",
       "  <thead>\n",
       "    <tr style=\"text-align: left;\">\n",
       "      <th>epoch</th>\n",
       "      <th>train_loss</th>\n",
       "      <th>valid_loss</th>\n",
       "      <th>accuracy</th>\n",
       "      <th>time</th>\n",
       "    </tr>\n",
       "  </thead>\n",
       "  <tbody>\n",
       "  </tbody>\n",
       "</table><p>\n",
       "\n",
       "    <div>\n",
       "        <style>\n",
       "            /* Turns off some styling */\n",
       "            progress {\n",
       "                /* gets rid of default border in Firefox and Opera. */\n",
       "                border: none;\n",
       "                /* Needs to be in here for Safari polyfill so background images work as expected. */\n",
       "                background-size: auto;\n",
       "            }\n",
       "            .progress-bar-interrupted, .progress-bar-interrupted::-webkit-progress-bar {\n",
       "                background: #F44336;\n",
       "            }\n",
       "        </style>\n",
       "      <progress value='82' class='' max='186' style='width:300px; height:20px; vertical-align: middle;'></progress>\n",
       "      44.09% [82/186 00:01<00:01 0.6522]\n",
       "    </div>\n",
       "    "
      ],
      "text/plain": [
       "<IPython.core.display.HTML object>"
      ]
     },
     "metadata": {},
     "output_type": "display_data"
    },
    {
     "name": "stderr",
     "output_type": "stream",
     "text": [
      "/usr/local/lib/python3.7/dist-packages/numpy/core/_asarray.py:83: VisibleDeprecationWarning: Creating an ndarray from ragged nested sequences (which is a list-or-tuple of lists-or-tuples-or ndarrays with different lengths or shapes) is deprecated. If you meant to do this, you must specify 'dtype=object' when creating the ndarray\n",
      "  return array(a, dtype, copy=False, order=order)\n",
      "<string>:6: VisibleDeprecationWarning: Creating an ndarray from ragged nested sequences (which is a list-or-tuple of lists-or-tuples-or ndarrays with different lengths or shapes) is deprecated. If you meant to do this, you must specify 'dtype=object' when creating the ndarray\n"
     ]
    },
    {
     "name": "stdout",
     "output_type": "stream",
     "text": [
      "LR Finder is complete, type {learner_name}.recorder.plot() to see the graph.\n",
      "Min numerical gradient: 1.74E-03\n",
      "Min loss divided by 10: 5.75E-03\n"
     ]
    },
    {
     "data": {
      "image/png": "[encoded data removed]",
      "text/plain": [
       "<Figure size 432x288 with 1 Axes>"
      ]
     },
     "metadata": {
      "needs_background": "light"
     },
     "output_type": "display_data"
    }
   ],
   "source": [
    "# train classifier\n",
    "learn_classifier.lr_find()\n",
    "learn_classifier.recorder.plot(suggestion=True)"
   ]
  },
  {
   "cell_type": "code",
   "execution_count": null,
   "metadata": {
    "colab": {
     "base_uri": "https://localhost:8080/",
     "height": 479
    },
    "id": "7boiRtwsTjHi",
    "outputId": "bf945f2b-981b-47ab-b144-28fd6b16d605"
   },
   "outputs": [
    {
     "data": {
      "text/html": [
       "<table border=\"1\" class=\"dataframe\">\n",
       "  <thead>\n",
       "    <tr style=\"text-align: left;\">\n",
       "      <th>epoch</th>\n",
       "      <th>train_loss</th>\n",
       "      <th>valid_loss</th>\n",
       "      <th>accuracy</th>\n",
       "      <th>time</th>\n",
       "    </tr>\n",
       "  </thead>\n",
       "  <tbody>\n",
       "    <tr>\n",
       "      <td>0</td>\n",
       "      <td>0.356488</td>\n",
       "      <td>0.097671</td>\n",
       "      <td>0.968610</td>\n",
       "      <td>00:03</td>\n",
       "    </tr>\n",
       "    <tr>\n",
       "      <td>1</td>\n",
       "      <td>0.274261</td>\n",
       "      <td>0.186039</td>\n",
       "      <td>0.973991</td>\n",
       "      <td>00:03</td>\n",
       "    </tr>\n",
       "    <tr>\n",
       "      <td>2</td>\n",
       "      <td>0.149730</td>\n",
       "      <td>0.147160</td>\n",
       "      <td>0.974888</td>\n",
       "      <td>00:02</td>\n",
       "    </tr>\n",
       "    <tr>\n",
       "      <td>3</td>\n",
       "      <td>0.111370</td>\n",
       "      <td>0.176638</td>\n",
       "      <td>0.977578</td>\n",
       "      <td>00:03</td>\n",
       "    </tr>\n",
       "    <tr>\n",
       "      <td>4</td>\n",
       "      <td>0.115223</td>\n",
       "      <td>0.206834</td>\n",
       "      <td>0.980269</td>\n",
       "      <td>00:02</td>\n",
       "    </tr>\n",
       "  </tbody>\n",
       "</table>"
      ],
      "text/plain": [
       "<IPython.core.display.HTML object>"
      ]
     },
     "metadata": {},
     "output_type": "display_data"
    },
    {
     "name": "stderr",
     "output_type": "stream",
     "text": [
      "/usr/local/lib/python3.7/dist-packages/numpy/core/_asarray.py:83: VisibleDeprecationWarning: Creating an ndarray from ragged nested sequences (which is a list-or-tuple of lists-or-tuples-or ndarrays with different lengths or shapes) is deprecated. If you meant to do this, you must specify 'dtype=object' when creating the ndarray\n",
      "  return array(a, dtype, copy=False, order=order)\n",
      "<string>:6: VisibleDeprecationWarning: Creating an ndarray from ragged nested sequences (which is a list-or-tuple of lists-or-tuples-or ndarrays with different lengths or shapes) is deprecated. If you meant to do this, you must specify 'dtype=object' when creating the ndarray\n",
      "/usr/local/lib/python3.7/dist-packages/numpy/core/_asarray.py:83: VisibleDeprecationWarning: Creating an ndarray from ragged nested sequences (which is a list-or-tuple of lists-or-tuples-or ndarrays with different lengths or shapes) is deprecated. If you meant to do this, you must specify 'dtype=object' when creating the ndarray\n",
      "  return array(a, dtype, copy=False, order=order)\n",
      "<string>:6: VisibleDeprecationWarning: Creating an ndarray from ragged nested sequences (which is a list-or-tuple of lists-or-tuples-or ndarrays with different lengths or shapes) is deprecated. If you meant to do this, you must specify 'dtype=object' when creating the ndarray\n",
      "/usr/local/lib/python3.7/dist-packages/numpy/core/_asarray.py:83: VisibleDeprecationWarning: Creating an ndarray from ragged nested sequences (which is a list-or-tuple of lists-or-tuples-or ndarrays with different lengths or shapes) is deprecated. If you meant to do this, you must specify 'dtype=object' when creating the ndarray\n",
      "  return array(a, dtype, copy=False, order=order)\n",
      "<string>:6: VisibleDeprecationWarning: Creating an ndarray from ragged nested sequences (which is a list-or-tuple of lists-or-tuples-or ndarrays with different lengths or shapes) is deprecated. If you meant to do this, you must specify 'dtype=object' when creating the ndarray\n",
      "/usr/local/lib/python3.7/dist-packages/numpy/core/_asarray.py:83: VisibleDeprecationWarning: Creating an ndarray from ragged nested sequences (which is a list-or-tuple of lists-or-tuples-or ndarrays with different lengths or shapes) is deprecated. If you meant to do this, you must specify 'dtype=object' when creating the ndarray\n",
      "  return array(a, dtype, copy=False, order=order)\n",
      "<string>:6: VisibleDeprecationWarning: Creating an ndarray from ragged nested sequences (which is a list-or-tuple of lists-or-tuples-or ndarrays with different lengths or shapes) is deprecated. If you meant to do this, you must specify 'dtype=object' when creating the ndarray\n",
      "/usr/local/lib/python3.7/dist-packages/numpy/core/_asarray.py:83: VisibleDeprecationWarning: Creating an ndarray from ragged nested sequences (which is a list-or-tuple of lists-or-tuples-or ndarrays with different lengths or shapes) is deprecated. If you meant to do this, you must specify 'dtype=object' when creating the ndarray\n",
      "  return array(a, dtype, copy=False, order=order)\n",
      "<string>:6: VisibleDeprecationWarning: Creating an ndarray from ragged nested sequences (which is a list-or-tuple of lists-or-tuples-or ndarrays with different lengths or shapes) is deprecated. If you meant to do this, you must specify 'dtype=object' when creating the ndarray\n"
     ]
    }
   ],
   "source": [
    "learn_classifier.fit_one_cycle(5, max_lr=1e-2, moms=(0.8,0.7))"
   ]
  },
  {
   "cell_type": "code",
   "execution_count": null,
   "metadata": {
    "colab": {
     "base_uri": "https://localhost:8080/",
     "height": 282
    },
    "id": "ToR6na02TjHi",
    "outputId": "64fa218a-f3b0-4446-f373-19250eae92dc"
   },
   "outputs": [
    {
     "data": {
      "image/png": "[encoded data removed]",
      "text/plain": [
       "<Figure size 432x288 with 1 Axes>"
      ]
     },
     "metadata": {
      "needs_background": "light"
     },
     "output_type": "display_data"
    }
   ],
   "source": [
    "learn_classifier.recorder.plot_losses()"
   ]
  },
  {
   "cell_type": "code",
   "execution_count": null,
   "metadata": {
    "colab": {
     "base_uri": "https://localhost:8080/",
     "height": 479
    },
    "id": "BLHJl3oQTjHi",
    "outputId": "cf92e9aa-714b-4de5-f1d4-1b6e9463410f"
   },
   "outputs": [
    {
     "data": {
      "text/html": [
       "\n",
       "    <div>\n",
       "        <style>\n",
       "            /* Turns off some styling */\n",
       "            progress {\n",
       "                /* gets rid of default border in Firefox and Opera. */\n",
       "                border: none;\n",
       "                /* Needs to be in here for Safari polyfill so background images work as expected. */\n",
       "                background-size: auto;\n",
       "            }\n",
       "            .progress-bar-interrupted, .progress-bar-interrupted::-webkit-progress-bar {\n",
       "                background: #F44336;\n",
       "            }\n",
       "        </style>\n",
       "      <progress value='0' class='' max='1' style='width:300px; height:20px; vertical-align: middle;'></progress>\n",
       "      0.00% [0/1 00:00<00:00]\n",
       "    </div>\n",
       "    \n",
       "<table border=\"1\" class=\"dataframe\">\n",
       "  <thead>\n",
       "    <tr style=\"text-align: left;\">\n",
       "      <th>epoch</th>\n",
       "      <th>train_loss</th>\n",
       "      <th>valid_loss</th>\n",
       "      <th>accuracy</th>\n",
       "      <th>time</th>\n",
       "    </tr>\n",
       "  </thead>\n",
       "  <tbody>\n",
       "  </tbody>\n",
       "</table><p>\n",
       "\n",
       "    <div>\n",
       "        <style>\n",
       "            /* Turns off some styling */\n",
       "            progress {\n",
       "                /* gets rid of default border in Firefox and Opera. */\n",
       "                border: none;\n",
       "                /* Needs to be in here for Safari polyfill so background images work as expected. */\n",
       "                background-size: auto;\n",
       "            }\n",
       "            .progress-bar-interrupted, .progress-bar-interrupted::-webkit-progress-bar {\n",
       "                background: #F44336;\n",
       "            }\n",
       "        </style>\n",
       "      <progress value='79' class='' max='186' style='width:300px; height:20px; vertical-align: middle;'></progress>\n",
       "      42.47% [79/186 00:01<00:01 0.1298]\n",
       "    </div>\n",
       "    "
      ],
      "text/plain": [
       "<IPython.core.display.HTML object>"
      ]
     },
     "metadata": {},
     "output_type": "display_data"
    },
    {
     "name": "stderr",
     "output_type": "stream",
     "text": [
      "/usr/local/lib/python3.7/dist-packages/numpy/core/_asarray.py:83: VisibleDeprecationWarning: Creating an ndarray from ragged nested sequences (which is a list-or-tuple of lists-or-tuples-or ndarrays with different lengths or shapes) is deprecated. If you meant to do this, you must specify 'dtype=object' when creating the ndarray\n",
      "  return array(a, dtype, copy=False, order=order)\n",
      "<string>:6: VisibleDeprecationWarning: Creating an ndarray from ragged nested sequences (which is a list-or-tuple of lists-or-tuples-or ndarrays with different lengths or shapes) is deprecated. If you meant to do this, you must specify 'dtype=object' when creating the ndarray\n"
     ]
    },
    {
     "name": "stdout",
     "output_type": "stream",
     "text": [
      "LR Finder is complete, type {learner_name}.recorder.plot() to see the graph.\n",
      "Min numerical gradient: 3.98E-06\n",
      "Min loss divided by 10: 2.51E-06\n"
     ]
    },
    {
     "data": {
      "image/png": "[encoded data removed]",
      "text/plain": [
       "<Figure size 432x288 with 1 Axes>"
      ]
     },
     "metadata": {
      "needs_background": "light"
     },
     "output_type": "display_data"
    }
   ],
   "source": [
    "lang_mod.freeze_to(-1)\n",
    "\n",
    "learn_classifier.lr_find()\n",
    "learn_classifier.recorder.plot(suggestion=True)"
   ]
  },
  {
   "cell_type": "markdown",
   "metadata": {
    "id": "ZyADkr6yTyG9"
   },
   "source": [
    "Test out the classification model on spam and non-spam examples."
   ]
  },
  {
   "cell_type": "code",
   "execution_count": null,
   "metadata": {
    "colab": {
     "base_uri": "https://localhost:8080/"
    },
    "id": "Y_KKaOnrTjHj",
    "outputId": "d13be362-d497-43ff-c5f6-f97d34d10d8f"
   },
   "outputs": [
    {
     "data": {
      "text/plain": [
       "(Category tensor(0), tensor(0), tensor([1.0000e+00, 1.3899e-12]))"
      ]
     },
     "execution_count": 47,
     "metadata": {},
     "output_type": "execute_result"
    }
   ],
   "source": [
    "# predict\n",
    "learn_classifier.predict('did you buy the groceries for dinner? :)')"
   ]
  },
  {
   "cell_type": "code",
   "execution_count": null,
   "metadata": {
    "colab": {
     "base_uri": "https://localhost:8080/"
    },
    "id": "A8Xv4N9STjHj",
    "outputId": "cdbc687b-2b3f-435a-b7de-cebd70fd02f1"
   },
   "outputs": [
    {
     "data": {
      "text/plain": [
       "(Category tensor(0), tensor(0), tensor([0.8416, 0.1584]))"
      ]
     },
     "execution_count": 46,
     "metadata": {},
     "output_type": "execute_result"
    }
   ],
   "source": [
    "# predict\n",
    "learn_classifier.predict('Free entry call back now')"
   ]
  },
  {
   "cell_type": "markdown",
   "metadata": {
    "id": "gcUOVjveT8Xu"
   },
   "source": [
    "Next we will evaluate on all of our validation data."
   ]
  },
  {
   "cell_type": "code",
   "execution_count": null,
   "metadata": {
    "colab": {
     "base_uri": "https://localhost:8080/",
     "height": 34
    },
    "id": "jkvU1PvTTjHj",
    "outputId": "6d9e9ea0-bb3c-4b7d-9cda-5d00b3aca80a"
   },
   "outputs": [
    {
     "data": {
      "text/html": [],
      "text/plain": [
       "<IPython.core.display.HTML object>"
      ]
     },
     "metadata": {},
     "output_type": "display_data"
    },
    {
     "data": {
      "text/plain": [
       "torch.Size([1115, 2])"
      ]
     },
     "execution_count": 48,
     "metadata": {},
     "output_type": "execute_result"
    }
   ],
   "source": [
    "# get predictions from validation\n",
    "valid_preds, valid_label=learn_classifier.get_preds(ds_type=DatasetType.Valid, ordered=True)\n",
    "valid_preds.shape"
   ]
  },
  {
   "cell_type": "markdown",
   "metadata": {
    "id": "s4UopYcrWw38"
   },
   "source": [
    "### Evaluate Performance"
   ]
  },
  {
   "cell_type": "markdown",
   "metadata": {
    "id": "as2zU5gP1vE3"
   },
   "source": [
    "The accuracy is 0.980269, which is slightly higher than the accuracy obtained in the first part using only LSTM (we had 0.971300)."
   ]
  },
  {
   "cell_type": "markdown",
   "metadata": {
    "id": "XJEg9G10Omwb"
   },
   "source": [
    "**Confusion Matrix for ULMFiT:**"
   ]
  },
  {
   "cell_type": "code",
   "execution_count": null,
   "metadata": {
    "id": "vuxLCHhFWw4F"
   },
   "outputs": [],
   "source": [
    "pred_label=torch.max(valid_preds,1)[1]"
   ]
  },
  {
   "cell_type": "code",
   "execution_count": null,
   "metadata": {
    "id": "9UDEoNS6Xqs4"
   },
   "outputs": [],
   "source": [
    "from sklearn.metrics import confusion_matrix\n",
    "\n",
    "cm1=confusion_matrix(list(valid_label),list(pred_label))"
   ]
  },
  {
   "cell_type": "code",
   "execution_count": null,
   "metadata": {
    "colab": {
     "base_uri": "https://localhost:8080/"
    },
    "id": "pZ2J1ueeY2xP",
    "outputId": "6ef5f1d0-6287-49b4-f87c-52e991fd0070"
   },
   "outputs": [
    {
     "data": {
      "text/plain": [
       "array([[958,   4],\n",
       "       [ 18, 135]])"
      ]
     },
     "execution_count": 51,
     "metadata": {},
     "output_type": "execute_result"
    }
   ],
   "source": [
    "cm1"
   ]
  },
  {
   "cell_type": "markdown",
   "metadata": {
    "id": "3i1BZjH_Oq7q"
   },
   "source": [
    "**Confusion Matrix for only LSTM:**"
   ]
  },
  {
   "cell_type": "markdown",
   "metadata": {
    "id": "BFwczVozssOK"
   },
   "source": [
    "Since the model that gave us the best validation accuracy was from model3, I will set model=model3"
   ]
  },
  {
   "cell_type": "code",
   "execution_count": null,
   "metadata": {
    "id": "iyqgPIBOszOG"
   },
   "outputs": [],
   "source": [
    "model=model3"
   ]
  },
  {
   "cell_type": "code",
   "execution_count": null,
   "metadata": {
    "id": "uw4eQQI-hGl8"
   },
   "outputs": [],
   "source": [
    "valid_iter3= torchtext.legacy.data.BucketIterator(df_val,\n",
    "                                           batch_size=32,\n",
    "                                           sort_key=lambda x: len(x.sms),\n",
    "                                           sort_within_batch=True,\n",
    "                                           repeat=False)"
   ]
  },
  {
   "cell_type": "code",
   "execution_count": null,
   "metadata": {
    "id": "ZiezGbWhftbW"
   },
   "outputs": [],
   "source": [
    "k=0\n",
    "for i in valid_iter:\n",
    "  if k==0:\n",
    "    valid_label_partA=i.label\n",
    "  else:\n",
    "    valid_label_partA=torch.cat((valid_label_partA,i.label),0)\n",
    "  k+=1"
   ]
  },
  {
   "cell_type": "code",
   "execution_count": null,
   "metadata": {
    "id": "THPt3PESgTIx"
   },
   "outputs": [],
   "source": [
    "def get_cm(model, data):\n",
    "    k=0\n",
    "    for batch in data:\n",
    "      y=batch.sms[0]\n",
    "      label=batch.label\n",
    "      output = model(y)\n",
    "      pred = output.max(1, keepdim=True)[1]\n",
    "      if k==0:\n",
    "        valid_pred_partA=pred.reshape(1,-1)[0]\n",
    "      else:\n",
    "        valid_pred_partA=torch.cat((valid_pred_partA,pred.reshape(1,-1)[0]),0)\n",
    "      k+=1\n",
    "    return valid_pred_partA"
   ]
  },
  {
   "cell_type": "code",
   "execution_count": null,
   "metadata": {
    "id": "s_eEfTHFgwTl"
   },
   "outputs": [],
   "source": [
    "valid_pred_partA=get_cm(model,valid_iter)"
   ]
  },
  {
   "cell_type": "code",
   "execution_count": null,
   "metadata": {
    "id": "FVqUuvGYi359"
   },
   "outputs": [],
   "source": [
    "cm2=confusion_matrix(list(valid_label_partA),list(valid_pred_partA))"
   ]
  },
  {
   "cell_type": "code",
   "execution_count": null,
   "metadata": {
    "colab": {
     "base_uri": "https://localhost:8080/"
    },
    "id": "naBEUa1qpm8F",
    "outputId": "12bc8d69-ce33-495e-e966-c5e29171c795"
   },
   "outputs": [
    {
     "data": {
      "text/plain": [
       "array([[785, 177],\n",
       "       [ 16, 137]])"
      ]
     },
     "execution_count": 73,
     "metadata": {},
     "output_type": "execute_result"
    }
   ],
   "source": [
    "cm2"
   ]
  },
  {
   "cell_type": "markdown",
   "metadata": {
    "id": "gW2kWS0QPlKT"
   },
   "source": [
    "The ULMFiT is obviously doing better than the model with only LSTM, we can see qualitatively that the accuracy is higher. The qualitative difference is that the LSTM is performing better for detecting the spam messages while the ULMFiT is performing better in detecting the non-spam messages. If we look at the false positive rate ULMFiT is performing way better, if we look at the false negative rate, only LSTM is performing better."
   ]
  },
  {
   "cell_type": "markdown",
   "metadata": {
    "id": "F9BpSLGBWw4F"
   },
   "source": [
    "### Evaluate on New Data"
   ]
  },
  {
   "cell_type": "code",
   "execution_count": null,
   "metadata": {
    "id": "3qBTzM_6wEU4"
   },
   "outputs": [],
   "source": [
    "k=learn_classifier.predict('machine learning is sooo cool!')"
   ]
  },
  {
   "cell_type": "code",
   "execution_count": null,
   "metadata": {
    "colab": {
     "base_uri": "https://localhost:8080/"
    },
    "id": "IGKhdWbNE-eS",
    "outputId": "af9b5e71-79b1-40d5-dc5b-5caa375c3b43"
   },
   "outputs": [
    {
     "name": "stdout",
     "output_type": "stream",
     "text": [
      "The model's prediction of the probability that the message is spam is: 9.270281152215358e-16\n"
     ]
    }
   ],
   "source": [
    "print(\"The model's prediction of the probability that the message is spam is:\", k[2][1].item())"
   ]
  },
  {
   "cell_type": "markdown",
   "metadata": {
    "id": "H4FlSj_Mn2yY"
   },
   "source": [
    "I will load 5 sample sentences from random spam mail and test it out out the two models I created to check how well they perform."
   ]
  },
  {
   "cell_type": "markdown",
   "metadata": {
    "id": "iqe719uNQg9W"
   },
   "source": [
    "**ULMFiT:**"
   ]
  },
  {
   "cell_type": "code",
   "execution_count": null,
   "metadata": {
    "id": "y3DCyMW_n05f"
   },
   "outputs": [],
   "source": [
    "msgs_spam_partB=['Dear valued member, you won a free trip to Maldives!', 'URGENT, PLEASE HELP! I am stranded on a desert island, send 100000$', 'BRAND NEW APP ON THIS LINK, only pay 3$!', 'ITS YOUR CHANCE to win 100$ in bitcoin', 'LIMITED TIME OFFER call to be the first to get this new ringtone!!']"
   ]
  },
  {
   "cell_type": "code",
   "execution_count": null,
   "metadata": {
    "colab": {
     "base_uri": "https://localhost:8080/"
    },
    "id": "o6WtZqY96P4l",
    "outputId": "f961b386-fb58-45cb-d718-b2f94fcc52e9"
   },
   "outputs": [
    {
     "name": "stdout",
     "output_type": "stream",
     "text": [
      "The accuracy of detecting spam emails is: 1.0\n"
     ]
    }
   ],
   "source": [
    "spam_num=0\n",
    "for i in msgs_spam_partB:\n",
    "  pred=learn_classifier.predict(i)\n",
    "  if pred[1]==1:\n",
    "    spam_num+=1\n",
    "spam_num=spam_num/5\n",
    "print(\"The accuracy of detecting spam emails is:\", spam_num)"
   ]
  },
  {
   "cell_type": "markdown",
   "metadata": {
    "id": "AzjRPBbhQlA4"
   },
   "source": [
    "**Only LSTM:**"
   ]
  },
  {
   "cell_type": "code",
   "execution_count": null,
   "metadata": {
    "colab": {
     "base_uri": "https://localhost:8080/"
    },
    "id": "amherIaLQ0KL",
    "outputId": "f5ce4d28-1ffd-411e-ef82-1877da6c1c5e"
   },
   "outputs": [
    {
     "name": "stdout",
     "output_type": "stream",
     "text": [
      "The accuracy of detecting spam emails is: 0.0\n"
     ]
    }
   ],
   "source": [
    "spam_num2=0\n",
    "for j in msgs_spam_partB:\n",
    "  j_new=list(tuple(i))\n",
    "  j_new2=[]\n",
    "  for i in enumerate(j_new):\n",
    "    j_new2.append(text_field.vocab.stoi[i[1]])\n",
    "\n",
    "  j_new2=torch.tensor(j_new2).unsqueeze(0)\n",
    "  prob=model(j_new2)\n",
    "  pred=prob.max(1,keepdim=True)[1]\n",
    "  if pred.item()==1:\n",
    "    spam_num2+=1\n",
    "spam_num2=spam_num2/5\n",
    "print(\"The accuracy of detecting spam emails is:\", spam_num2)"
   ]
  },
  {
   "cell_type": "markdown",
   "metadata": {
    "id": "5UzOEHyRiVVs"
   },
   "source": [
    "ULMFiT is performing way better than only LSTM, which predicts that every sentence is non-spam in the list."
   ]
  },
  {
   "cell_type": "markdown",
   "metadata": {
    "id": "646WjsAwWw4F"
   },
   "source": [
    "I will load 5 sample sentences from random regular mail and test it out out the two models I created to check how well they perform."
   ]
  },
  {
   "cell_type": "markdown",
   "metadata": {
    "id": "YdBVu3GQQngh"
   },
   "source": [
    "**ULMFiT:**"
   ]
  },
  {
   "cell_type": "code",
   "execution_count": null,
   "metadata": {
    "id": "0OvvnW8OWw4G"
   },
   "outputs": [],
   "source": [
    "msgs_nospam_partB=['We are currently accepting applications for the following TA position.', 'Kindly find attached the Dean’s Honor List for the spring term 2020-2021', 'Your monthly source for graduate school-related news, events, and resources from across our three campuses', 'My apologies but I need to shift when we meet for office hours.', 'We can always schedule a meeting on TEAMS']"
   ]
  },
  {
   "cell_type": "code",
   "execution_count": null,
   "metadata": {
    "colab": {
     "base_uri": "https://localhost:8080/"
    },
    "id": "VhbxqdR166X5",
    "outputId": "9c7f67ad-5e7a-4fa8-cf94-9e3fe5619505"
   },
   "outputs": [
    {
     "name": "stdout",
     "output_type": "stream",
     "text": [
      "The accuracy of predicting non-spam is: 1.0\n"
     ]
    }
   ],
   "source": [
    "nospam_num=0\n",
    "for i in msgs_nospam_partB:\n",
    "  pred=learn_classifier.predict(i)\n",
    "  if pred[1]==0:\n",
    "    nospam_num+=1\n",
    "nospam_num=nospam_num/5\n",
    "print(\"The accuracy of predicting non-spam is:\",nospam_num)"
   ]
  },
  {
   "cell_type": "markdown",
   "metadata": {
    "id": "E6nnssakQq2W"
   },
   "source": [
    "**Only LSTM:**"
   ]
  },
  {
   "cell_type": "code",
   "execution_count": null,
   "metadata": {
    "colab": {
     "base_uri": "https://localhost:8080/"
    },
    "id": "n1S45WaZNaeJ",
    "outputId": "1a3e05cd-efca-4279-89f2-16cd1d893875"
   },
   "outputs": [
    {
     "name": "stdout",
     "output_type": "stream",
     "text": [
      "The accuracy of detecting non-spam emails is: 1.0\n"
     ]
    }
   ],
   "source": [
    "nospam_num2=0\n",
    "for j in msgs_nospam_partB:\n",
    "  j_new=list(tuple(i))\n",
    "  j_new2=[]\n",
    "  for i in enumerate(j_new):\n",
    "    j_new2.append(text_field.vocab.stoi[i[1]])\n",
    "\n",
    "  j_new2=torch.tensor(j_new2).unsqueeze(0)\n",
    "  prob=model(j_new2)\n",
    "  pred=prob.max(1,keepdim=True)[1]\n",
    "  if pred.item()==0:\n",
    "    nospam_num2+=1\n",
    "nospam_num2=nospam_num2/5\n",
    "print(\"The accuracy of detecting non-spam emails is:\", nospam_num2)"
   ]
  },
  {
   "cell_type": "markdown",
   "metadata": {
    "id": "lFZRLUTnidDg"
   },
   "source": [
    "Both models perform the same for the non-spam emails and that is expected (LSTM was mostly predicting non-spam anyway)."
   ]
  }
 ],
 "metadata": {
  "accelerator": "GPU",
  "colab": {
   "collapsed_sections": [],
   "name": "LAB_4_Sequential_Data.ipynb",
   "provenance": []
  },
  "kernelspec": {
   "display_name": "Python 3 (ipykernel)",
   "language": "python",
   "name": "python3"
  },
  "language_info": {
   "codemirror_mode": {
    "name": "ipython",
    "version": 3
   },
   "file_extension": ".py",
   "mimetype": "text/x-python",
   "name": "python",
   "nbconvert_exporter": "python",
   "pygments_lexer": "ipython3",
   "version": "3.9.7"
  }
 },
 "nbformat": 4,
 "nbformat_minor": 1
}
